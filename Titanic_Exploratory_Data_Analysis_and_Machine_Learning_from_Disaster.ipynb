{
  "nbformat": 4,
  "nbformat_minor": 0,
  "metadata": {
    "colab": {
      "name": " Titanic - Exploratory Data Analysis and Machine Learning from Disaster.ipynb",
      "provenance": [],
      "collapsed_sections": [
        "c0lb2voR1727",
        "qM-qSNvQHKz_"
      ],
      "toc_visible": true,
      "include_colab_link": true
    },
    "kernelspec": {
      "name": "python3",
      "display_name": "Python 3"
    },
    "language_info": {
      "name": "python"
    }
  },
  "cells": [
    {
      "cell_type": "markdown",
      "metadata": {
        "id": "view-in-github",
        "colab_type": "text"
      },
      "source": [
        "<a href=\"https://colab.research.google.com/github/Holzlsauer/kaggle_titanic/blob/main/Titanic_Exploratory_Data_Analysis_and_Machine_Learning_from_Disaster.ipynb\" target=\"_parent\"><img src=\"https://colab.research.google.com/assets/colab-badge.svg\" alt=\"Open In Colab\"/></a>"
      ]
    },
    {
      "cell_type": "markdown",
      "metadata": {
        "id": "KUP_XSm603or"
      },
      "source": [
        "# Titanic - Exploratory Data Analysis and Machine Learning from Disaster\n",
        "\n",
        "Author: **Renato Holzlsauer Mattos Macedo**<br>\n",
        "Contact: **renato.holzlsauer@gmail.com** - [**GitHub**](https://github.com/Holzlsauer) - [**LinkedIn**](https://www.linkedin.com/in/holzlsauer/)\n",
        "\n"
      ]
    },
    {
      "cell_type": "code",
      "source": [
        "from google.colab import drive\n",
        "drive.mount('/content/drive')"
      ],
      "metadata": {
        "colab": {
          "base_uri": "https://localhost:8080/"
        },
        "id": "7WYSz9jN8Zls",
        "outputId": "7435f942-bf67-43a9-ff6f-9284cb311470"
      },
      "execution_count": 468,
      "outputs": [
        {
          "output_type": "stream",
          "name": "stdout",
          "text": [
            "Drive already mounted at /content/drive; to attempt to forcibly remount, call drive.mount(\"/content/drive\", force_remount=True).\n"
          ]
        }
      ]
    },
    {
      "cell_type": "markdown",
      "metadata": {
        "id": "c0lb2voR1727"
      },
      "source": [
        "# Sumary\n",
        "\n",
        "\n"
      ]
    },
    {
      "cell_type": "markdown",
      "source": [
        "---"
      ],
      "metadata": {
        "id": "2sryrtJ3HYbX"
      }
    },
    {
      "cell_type": "markdown",
      "source": [
        "# Setup"
      ],
      "metadata": {
        "id": "qM-qSNvQHKz_"
      }
    },
    {
      "cell_type": "code",
      "metadata": {
        "id": "85ClazFO0b_U"
      },
      "source": [
        "import matplotlib.pyplot as plt\n",
        "import numpy as np\n",
        "import pandas as pd\n",
        "import seaborn as sns\n",
        "\n",
        "from sklearn.ensemble import RandomForestClassifier\n",
        "from sklearn.model_selection import cross_validate\n",
        "from sklearn.model_selection import RandomizedSearchCV\n",
        "from sklearn.model_selection import RepeatedStratifiedKFold\n",
        "from sklearn.preprocessing import Normalizer"
      ],
      "execution_count": 469,
      "outputs": []
    },
    {
      "cell_type": "code",
      "metadata": {
        "id": "e-XbnKgVHYGP"
      },
      "source": [
        "# Set plot style\n",
        "# plt.style.use('fivethirtyeight')"
      ],
      "execution_count": 470,
      "outputs": []
    },
    {
      "cell_type": "code",
      "metadata": {
        "colab": {
          "base_uri": "https://localhost:8080/"
        },
        "id": "4A1v4HXk0g1M",
        "outputId": "b706bd5b-65b7-41d9-9daf-62f82b695e06"
      },
      "source": [
        "# List all the files in this directory\n",
        "\n",
        "import os\n",
        "for dirname, _, filenames in os.walk('/content/drive/MyDrive/Colab Notebooks/kaggle/titanic/input'):\n",
        "    for filename in filenames:\n",
        "        print(os.path.join(dirname, filename))\n",
        "\n",
        "# You can write up to 20GB to the current directory (/kaggle/working/) that gets preserved as output when you create a version using \"Save & Run All\" \n",
        "# You can also write temporary files to /kaggle/temp/, but they won't be saved outside of the current session\n",
        "train = pd.read_csv(\"/content/drive/MyDrive/Colab Notebooks/kaggle/titanic/input/train.csv\")\n",
        "test = pd.read_csv(\"/content/drive/MyDrive/Colab Notebooks/kaggle/titanic/input/test.csv\")"
      ],
      "execution_count": 471,
      "outputs": [
        {
          "output_type": "stream",
          "name": "stdout",
          "text": [
            "/content/drive/MyDrive/Colab Notebooks/kaggle/titanic/input/train.csv\n",
            "/content/drive/MyDrive/Colab Notebooks/kaggle/titanic/input/test.csv\n"
          ]
        }
      ]
    },
    {
      "cell_type": "markdown",
      "source": [
        "---"
      ],
      "metadata": {
        "id": "_tsqdKzBHPSS"
      }
    },
    {
      "cell_type": "markdown",
      "metadata": {
        "id": "-nSBPwpn0sIE"
      },
      "source": [
        "# Exploratory Data Analysis - EDA"
      ]
    },
    {
      "cell_type": "markdown",
      "metadata": {
        "id": "zdaQZa0Y0m2Z"
      },
      "source": [
        "Data dictionary\n",
        "\n",
        "\n",
        "| Variable | Definition                                 | Key                                            |\n",
        "| ---------|--------------------------------------------|------------------------------------------------|\n",
        "| survival |Survival                                    | 0 = No, 1 = Yes                                |\n",
        "| pclass   | Ticket class                               | 1 = 1st, 2 = 2nd, 3 = 3rd                      |\n",
        "| sex      | Sex                                        |                                                |\n",
        "| Age      | Age in years                               |                                                |\n",
        "| sibsp    | # of siblings / spouses aboard the Titanic |                                                |\n",
        "| parch    | # of parents / children aboard the Titanic |                                                |\n",
        "| ticket   | Ticket number                              |                                                |\n",
        "| fare     | Passenger fare                             |                                                |\n",
        "| cabin    | Cabin number                               |                                                |\n",
        "| embarked | Port of Embarkation                        | C = Cherbourg, Q = Queenstown, S = Southampton |"
      ]
    },
    {
      "cell_type": "code",
      "metadata": {
        "colab": {
          "base_uri": "https://localhost:8080/",
          "height": 206
        },
        "id": "Y8fdho5g0pBq",
        "outputId": "bf7c44bc-5e18-4f3c-9113-6789ed0715f4"
      },
      "source": [
        "train.head()"
      ],
      "execution_count": 472,
      "outputs": [
        {
          "output_type": "execute_result",
          "data": {
            "text/html": [
              "<div>\n",
              "<style scoped>\n",
              "    .dataframe tbody tr th:only-of-type {\n",
              "        vertical-align: middle;\n",
              "    }\n",
              "\n",
              "    .dataframe tbody tr th {\n",
              "        vertical-align: top;\n",
              "    }\n",
              "\n",
              "    .dataframe thead th {\n",
              "        text-align: right;\n",
              "    }\n",
              "</style>\n",
              "<table border=\"1\" class=\"dataframe\">\n",
              "  <thead>\n",
              "    <tr style=\"text-align: right;\">\n",
              "      <th></th>\n",
              "      <th>PassengerId</th>\n",
              "      <th>Survived</th>\n",
              "      <th>Pclass</th>\n",
              "      <th>Name</th>\n",
              "      <th>Sex</th>\n",
              "      <th>Age</th>\n",
              "      <th>SibSp</th>\n",
              "      <th>Parch</th>\n",
              "      <th>Ticket</th>\n",
              "      <th>Fare</th>\n",
              "      <th>Cabin</th>\n",
              "      <th>Embarked</th>\n",
              "    </tr>\n",
              "  </thead>\n",
              "  <tbody>\n",
              "    <tr>\n",
              "      <th>0</th>\n",
              "      <td>1</td>\n",
              "      <td>0</td>\n",
              "      <td>3</td>\n",
              "      <td>Braund, Mr. Owen Harris</td>\n",
              "      <td>male</td>\n",
              "      <td>22.0</td>\n",
              "      <td>1</td>\n",
              "      <td>0</td>\n",
              "      <td>A/5 21171</td>\n",
              "      <td>7.2500</td>\n",
              "      <td>NaN</td>\n",
              "      <td>S</td>\n",
              "    </tr>\n",
              "    <tr>\n",
              "      <th>1</th>\n",
              "      <td>2</td>\n",
              "      <td>1</td>\n",
              "      <td>1</td>\n",
              "      <td>Cumings, Mrs. John Bradley (Florence Briggs Th...</td>\n",
              "      <td>female</td>\n",
              "      <td>38.0</td>\n",
              "      <td>1</td>\n",
              "      <td>0</td>\n",
              "      <td>PC 17599</td>\n",
              "      <td>71.2833</td>\n",
              "      <td>C85</td>\n",
              "      <td>C</td>\n",
              "    </tr>\n",
              "    <tr>\n",
              "      <th>2</th>\n",
              "      <td>3</td>\n",
              "      <td>1</td>\n",
              "      <td>3</td>\n",
              "      <td>Heikkinen, Miss. Laina</td>\n",
              "      <td>female</td>\n",
              "      <td>26.0</td>\n",
              "      <td>0</td>\n",
              "      <td>0</td>\n",
              "      <td>STON/O2. 3101282</td>\n",
              "      <td>7.9250</td>\n",
              "      <td>NaN</td>\n",
              "      <td>S</td>\n",
              "    </tr>\n",
              "    <tr>\n",
              "      <th>3</th>\n",
              "      <td>4</td>\n",
              "      <td>1</td>\n",
              "      <td>1</td>\n",
              "      <td>Futrelle, Mrs. Jacques Heath (Lily May Peel)</td>\n",
              "      <td>female</td>\n",
              "      <td>35.0</td>\n",
              "      <td>1</td>\n",
              "      <td>0</td>\n",
              "      <td>113803</td>\n",
              "      <td>53.1000</td>\n",
              "      <td>C123</td>\n",
              "      <td>S</td>\n",
              "    </tr>\n",
              "    <tr>\n",
              "      <th>4</th>\n",
              "      <td>5</td>\n",
              "      <td>0</td>\n",
              "      <td>3</td>\n",
              "      <td>Allen, Mr. William Henry</td>\n",
              "      <td>male</td>\n",
              "      <td>35.0</td>\n",
              "      <td>0</td>\n",
              "      <td>0</td>\n",
              "      <td>373450</td>\n",
              "      <td>8.0500</td>\n",
              "      <td>NaN</td>\n",
              "      <td>S</td>\n",
              "    </tr>\n",
              "  </tbody>\n",
              "</table>\n",
              "</div>"
            ],
            "text/plain": [
              "   PassengerId  Survived  Pclass  ...     Fare Cabin  Embarked\n",
              "0            1         0       3  ...   7.2500   NaN         S\n",
              "1            2         1       1  ...  71.2833   C85         C\n",
              "2            3         1       3  ...   7.9250   NaN         S\n",
              "3            4         1       1  ...  53.1000  C123         S\n",
              "4            5         0       3  ...   8.0500   NaN         S\n",
              "\n",
              "[5 rows x 12 columns]"
            ]
          },
          "metadata": {},
          "execution_count": 472
        }
      ]
    },
    {
      "cell_type": "code",
      "source": [
        "test.head()"
      ],
      "metadata": {
        "colab": {
          "base_uri": "https://localhost:8080/",
          "height": 206
        },
        "id": "OYq9kddYWOkM",
        "outputId": "d17d8917-698d-4a42-c8c5-835ef0281ecc"
      },
      "execution_count": 473,
      "outputs": [
        {
          "output_type": "execute_result",
          "data": {
            "text/html": [
              "<div>\n",
              "<style scoped>\n",
              "    .dataframe tbody tr th:only-of-type {\n",
              "        vertical-align: middle;\n",
              "    }\n",
              "\n",
              "    .dataframe tbody tr th {\n",
              "        vertical-align: top;\n",
              "    }\n",
              "\n",
              "    .dataframe thead th {\n",
              "        text-align: right;\n",
              "    }\n",
              "</style>\n",
              "<table border=\"1\" class=\"dataframe\">\n",
              "  <thead>\n",
              "    <tr style=\"text-align: right;\">\n",
              "      <th></th>\n",
              "      <th>PassengerId</th>\n",
              "      <th>Pclass</th>\n",
              "      <th>Name</th>\n",
              "      <th>Sex</th>\n",
              "      <th>Age</th>\n",
              "      <th>SibSp</th>\n",
              "      <th>Parch</th>\n",
              "      <th>Ticket</th>\n",
              "      <th>Fare</th>\n",
              "      <th>Cabin</th>\n",
              "      <th>Embarked</th>\n",
              "    </tr>\n",
              "  </thead>\n",
              "  <tbody>\n",
              "    <tr>\n",
              "      <th>0</th>\n",
              "      <td>892</td>\n",
              "      <td>3</td>\n",
              "      <td>Kelly, Mr. James</td>\n",
              "      <td>male</td>\n",
              "      <td>34.5</td>\n",
              "      <td>0</td>\n",
              "      <td>0</td>\n",
              "      <td>330911</td>\n",
              "      <td>7.8292</td>\n",
              "      <td>NaN</td>\n",
              "      <td>Q</td>\n",
              "    </tr>\n",
              "    <tr>\n",
              "      <th>1</th>\n",
              "      <td>893</td>\n",
              "      <td>3</td>\n",
              "      <td>Wilkes, Mrs. James (Ellen Needs)</td>\n",
              "      <td>female</td>\n",
              "      <td>47.0</td>\n",
              "      <td>1</td>\n",
              "      <td>0</td>\n",
              "      <td>363272</td>\n",
              "      <td>7.0000</td>\n",
              "      <td>NaN</td>\n",
              "      <td>S</td>\n",
              "    </tr>\n",
              "    <tr>\n",
              "      <th>2</th>\n",
              "      <td>894</td>\n",
              "      <td>2</td>\n",
              "      <td>Myles, Mr. Thomas Francis</td>\n",
              "      <td>male</td>\n",
              "      <td>62.0</td>\n",
              "      <td>0</td>\n",
              "      <td>0</td>\n",
              "      <td>240276</td>\n",
              "      <td>9.6875</td>\n",
              "      <td>NaN</td>\n",
              "      <td>Q</td>\n",
              "    </tr>\n",
              "    <tr>\n",
              "      <th>3</th>\n",
              "      <td>895</td>\n",
              "      <td>3</td>\n",
              "      <td>Wirz, Mr. Albert</td>\n",
              "      <td>male</td>\n",
              "      <td>27.0</td>\n",
              "      <td>0</td>\n",
              "      <td>0</td>\n",
              "      <td>315154</td>\n",
              "      <td>8.6625</td>\n",
              "      <td>NaN</td>\n",
              "      <td>S</td>\n",
              "    </tr>\n",
              "    <tr>\n",
              "      <th>4</th>\n",
              "      <td>896</td>\n",
              "      <td>3</td>\n",
              "      <td>Hirvonen, Mrs. Alexander (Helga E Lindqvist)</td>\n",
              "      <td>female</td>\n",
              "      <td>22.0</td>\n",
              "      <td>1</td>\n",
              "      <td>1</td>\n",
              "      <td>3101298</td>\n",
              "      <td>12.2875</td>\n",
              "      <td>NaN</td>\n",
              "      <td>S</td>\n",
              "    </tr>\n",
              "  </tbody>\n",
              "</table>\n",
              "</div>"
            ],
            "text/plain": [
              "   PassengerId  Pclass  ... Cabin Embarked\n",
              "0          892       3  ...   NaN        Q\n",
              "1          893       3  ...   NaN        S\n",
              "2          894       2  ...   NaN        Q\n",
              "3          895       3  ...   NaN        S\n",
              "4          896       3  ...   NaN        S\n",
              "\n",
              "[5 rows x 11 columns]"
            ]
          },
          "metadata": {},
          "execution_count": 473
        }
      ]
    },
    {
      "cell_type": "code",
      "metadata": {
        "colab": {
          "base_uri": "https://localhost:8080/",
          "height": 365
        },
        "id": "y9wwvBtnG0OA",
        "outputId": "019e3dc3-e373-4b3e-fb56-c644f65b5e14"
      },
      "source": [
        "plt.title('Drowns and survivors', fontsize=14)\n",
        "sns.countplot(x='Survived', data=train)\n",
        "plt.show()\n",
        "\n",
        "print(f'\\n\\t# of passengers:  {len(train)}')\n",
        "print(f'\\t# of survivors:   {train.Survived.sum()}')\n",
        "print(f'\\t# of drowns:      {len(train) - train.Survived.sum()}')"
      ],
      "execution_count": 474,
      "outputs": [
        {
          "output_type": "display_data",
          "data": {
            "image/png": "[encoded data removed]",
            "text/plain": [
              "<Figure size 432x288 with 1 Axes>"
            ]
          },
          "metadata": {
            "needs_background": "light"
          }
        },
        {
          "output_type": "stream",
          "name": "stdout",
          "text": [
            "\n",
            "\t# of passengers:  891\n",
            "\t# of survivors:   342\n",
            "\t# of drowns:      549\n"
          ]
        }
      ]
    },
    {
      "cell_type": "code",
      "metadata": {
        "colab": {
          "base_uri": "https://localhost:8080/"
        },
        "id": "6WcFaUF4MmYe",
        "outputId": "ca080c6e-3d02-4fa0-9402-d387b26bc2ab"
      },
      "source": [
        "train.info()"
      ],
      "execution_count": 475,
      "outputs": [
        {
          "output_type": "stream",
          "name": "stdout",
          "text": [
            "<class 'pandas.core.frame.DataFrame'>\n",
            "RangeIndex: 891 entries, 0 to 890\n",
            "Data columns (total 12 columns):\n",
            " #   Column       Non-Null Count  Dtype  \n",
            "---  ------       --------------  -----  \n",
            " 0   PassengerId  891 non-null    int64  \n",
            " 1   Survived     891 non-null    int64  \n",
            " 2   Pclass       891 non-null    int64  \n",
            " 3   Name         891 non-null    object \n",
            " 4   Sex          891 non-null    object \n",
            " 5   Age          714 non-null    float64\n",
            " 6   SibSp        891 non-null    int64  \n",
            " 7   Parch        891 non-null    int64  \n",
            " 8   Ticket       891 non-null    object \n",
            " 9   Fare         891 non-null    float64\n",
            " 10  Cabin        204 non-null    object \n",
            " 11  Embarked     889 non-null    object \n",
            "dtypes: float64(2), int64(5), object(5)\n",
            "memory usage: 83.7+ KB\n"
          ]
        }
      ]
    },
    {
      "cell_type": "markdown",
      "metadata": {
        "id": "hDkVBiGAMsRf"
      },
      "source": [
        "In this dataset there's three columns with NaN values based on the number of total passengers. Those columns are **Age**, **Cabin** and **Embarked**.\n",
        "To be sure, we can see the sum of nan values presents in the dataset.\n"
      ]
    },
    {
      "cell_type": "code",
      "metadata": {
        "colab": {
          "base_uri": "https://localhost:8080/",
          "height": 112
        },
        "id": "TRNE75F40xZ_",
        "outputId": "d3c4ea68-79a5-4163-8d2a-188f37295466"
      },
      "source": [
        "train_nan = train.isna().sum()\n",
        "test_nan = test.isna().sum()\n",
        "index = test_nan.index\n",
        "\n",
        "pd.DataFrame({ '# of NaN in Train': train_nan, '# of NaN in Test': test_nan }, index=index).T"
      ],
      "execution_count": 476,
      "outputs": [
        {
          "output_type": "execute_result",
          "data": {
            "text/html": [
              "<div>\n",
              "<style scoped>\n",
              "    .dataframe tbody tr th:only-of-type {\n",
              "        vertical-align: middle;\n",
              "    }\n",
              "\n",
              "    .dataframe tbody tr th {\n",
              "        vertical-align: top;\n",
              "    }\n",
              "\n",
              "    .dataframe thead th {\n",
              "        text-align: right;\n",
              "    }\n",
              "</style>\n",
              "<table border=\"1\" class=\"dataframe\">\n",
              "  <thead>\n",
              "    <tr style=\"text-align: right;\">\n",
              "      <th></th>\n",
              "      <th>PassengerId</th>\n",
              "      <th>Pclass</th>\n",
              "      <th>Name</th>\n",
              "      <th>Sex</th>\n",
              "      <th>Age</th>\n",
              "      <th>SibSp</th>\n",
              "      <th>Parch</th>\n",
              "      <th>Ticket</th>\n",
              "      <th>Fare</th>\n",
              "      <th>Cabin</th>\n",
              "      <th>Embarked</th>\n",
              "    </tr>\n",
              "  </thead>\n",
              "  <tbody>\n",
              "    <tr>\n",
              "      <th># of NaN in Train</th>\n",
              "      <td>0</td>\n",
              "      <td>0</td>\n",
              "      <td>0</td>\n",
              "      <td>0</td>\n",
              "      <td>177</td>\n",
              "      <td>0</td>\n",
              "      <td>0</td>\n",
              "      <td>0</td>\n",
              "      <td>0</td>\n",
              "      <td>687</td>\n",
              "      <td>2</td>\n",
              "    </tr>\n",
              "    <tr>\n",
              "      <th># of NaN in Test</th>\n",
              "      <td>0</td>\n",
              "      <td>0</td>\n",
              "      <td>0</td>\n",
              "      <td>0</td>\n",
              "      <td>86</td>\n",
              "      <td>0</td>\n",
              "      <td>0</td>\n",
              "      <td>0</td>\n",
              "      <td>1</td>\n",
              "      <td>327</td>\n",
              "      <td>0</td>\n",
              "    </tr>\n",
              "  </tbody>\n",
              "</table>\n",
              "</div>"
            ],
            "text/plain": [
              "                   PassengerId  Pclass  Name  ...  Fare  Cabin  Embarked\n",
              "# of NaN in Train            0       0     0  ...     0    687         2\n",
              "# of NaN in Test             0       0     0  ...     1    327         0\n",
              "\n",
              "[2 rows x 11 columns]"
            ]
          },
          "metadata": {},
          "execution_count": 476
        }
      ]
    },
    {
      "cell_type": "markdown",
      "metadata": {
        "id": "UtCstYrK8jKS"
      },
      "source": [
        "Aside of that, in the dataframe info we can see that are some columns with object data type. These types of data aren't apropriated to be feed to the algorithms. The columns **Name**, **Sex**, **Ticket**, **Cabin** and **Embarked** must either be engineered or removed from the dataset."
      ]
    },
    {
      "cell_type": "markdown",
      "source": [
        "## Cleaning the dataset"
      ],
      "metadata": {
        "id": "zG5ZDsvTKheE"
      }
    },
    {
      "cell_type": "markdown",
      "source": [
        "Before we start asking questions and plotting some graphics, we'll deal with the nan values in our dataset."
      ],
      "metadata": {
        "id": "djSlM374KoY8"
      }
    },
    {
      "cell_type": "markdown",
      "source": [
        "### Age values"
      ],
      "metadata": {
        "id": "N9y7NinqK5YH"
      }
    },
    {
      "cell_type": "markdown",
      "source": [
        "As seen  before, there are 177 passengers without their age information in the dataset. \n",
        "\n",
        "One way to fill these nan values is using the mean age value."
      ],
      "metadata": {
        "id": "876wZX_UK9pN"
      }
    },
    {
      "cell_type": "code",
      "source": [
        "train_age = train[train.Age.isna() == False]\n",
        "\n",
        "plt.title('Age by gender')\n",
        "sns.barplot(x='Sex', y='Age', data=train_age);\n",
        "plt.ylim(0, 35)"
      ],
      "metadata": {
        "colab": {
          "base_uri": "https://localhost:8080/",
          "height": 72
        },
        "id": "zYr8JI5QLwAD",
        "outputId": "6e9af3a3-e264-487d-fb41-940980162c53"
      },
      "execution_count": 477,
      "outputs": [
        {
          "output_type": "execute_result",
          "data": {
            "text/plain": [
              "(0.0, 35.0)"
            ]
          },
          "metadata": {},
          "execution_count": 477
        },
        {
          "output_type": "display_data",
          "data": {
            "image/png": "[encoded data removed]",
            "text/plain": [
              "<Figure size 432x288 with 1 Axes>"
            ]
          },
          "metadata": {
            "needs_background": "light"
          }
        }
      ]
    },
    {
      "cell_type": "markdown",
      "source": [
        "In the graphic above we can see that there's a slightly difference between mean value of the ages for each gender. \n",
        "\n",
        "It's wise to fill the gaps of gender with its respective mean."
      ],
      "metadata": {
        "id": "mOoz88P2N1Xl"
      }
    },
    {
      "cell_type": "code",
      "source": [
        "male_age = train_age[train_age.Sex == 'male'].Age.describe()\n",
        "female_age = train_age[train_age.Sex == 'female'].Age.describe()\n",
        "index = female_age.index\n",
        "\n",
        "pd.DataFrame({ 'Male Age': male_age, 'Female Age': female_age }, index=index).T"
      ],
      "metadata": {
        "colab": {
          "base_uri": "https://localhost:8080/",
          "height": 167
        },
        "id": "pBx7ETtMOVFS",
        "outputId": "077e8297-fd4c-4fcf-d047-1de499833237"
      },
      "execution_count": 478,
      "outputs": [
        {
          "output_type": "execute_result",
          "data": {
            "text/html": [
              "<div>\n",
              "<style scoped>\n",
              "    .dataframe tbody tr th:only-of-type {\n",
              "        vertical-align: middle;\n",
              "    }\n",
              "\n",
              "    .dataframe tbody tr th {\n",
              "        vertical-align: top;\n",
              "    }\n",
              "\n",
              "    .dataframe thead th {\n",
              "        text-align: right;\n",
              "    }\n",
              "</style>\n",
              "<table border=\"1\" class=\"dataframe\">\n",
              "  <thead>\n",
              "    <tr style=\"text-align: right;\">\n",
              "      <th></th>\n",
              "      <th>count</th>\n",
              "      <th>mean</th>\n",
              "      <th>std</th>\n",
              "      <th>min</th>\n",
              "      <th>25%</th>\n",
              "      <th>50%</th>\n",
              "      <th>75%</th>\n",
              "      <th>max</th>\n",
              "    </tr>\n",
              "  </thead>\n",
              "  <tbody>\n",
              "    <tr>\n",
              "      <th>Male Age</th>\n",
              "      <td>453.0</td>\n",
              "      <td>30.726645</td>\n",
              "      <td>14.678201</td>\n",
              "      <td>0.42</td>\n",
              "      <td>21.0</td>\n",
              "      <td>29.0</td>\n",
              "      <td>39.0</td>\n",
              "      <td>80.0</td>\n",
              "    </tr>\n",
              "    <tr>\n",
              "      <th>Female Age</th>\n",
              "      <td>261.0</td>\n",
              "      <td>27.915709</td>\n",
              "      <td>14.110146</td>\n",
              "      <td>0.75</td>\n",
              "      <td>18.0</td>\n",
              "      <td>27.0</td>\n",
              "      <td>37.0</td>\n",
              "      <td>63.0</td>\n",
              "    </tr>\n",
              "  </tbody>\n",
              "</table>\n",
              "</div>"
            ],
            "text/plain": [
              "            count       mean        std   min   25%   50%   75%   max\n",
              "Male Age    453.0  30.726645  14.678201  0.42  21.0  29.0  39.0  80.0\n",
              "Female Age  261.0  27.915709  14.110146  0.75  18.0  27.0  37.0  63.0"
            ]
          },
          "metadata": {},
          "execution_count": 478
        }
      ]
    },
    {
      "cell_type": "code",
      "source": [
        "def fill_age(df: pd.DataFrame) -> None:\n",
        "    for gender in 'male', 'female':\n",
        "        mask = df.Sex == gender\n",
        "        value = int(df[mask & (df.Age.notnull())].Age.mean())\n",
        "        df.loc[mask, 'Age'] = df.loc[mask, 'Age'].fillna(value)\n",
        "\n",
        "for df in train, test:\n",
        "    fill_age(df)"
      ],
      "metadata": {
        "id": "d-xl3BPKTYY8"
      },
      "execution_count": 479,
      "outputs": []
    },
    {
      "cell_type": "code",
      "source": [
        "train.info()"
      ],
      "metadata": {
        "colab": {
          "base_uri": "https://localhost:8080/"
        },
        "id": "R29V1VkGVlGY",
        "outputId": "cb7cbf5f-1d0d-469d-cf1a-d8f5cfb36daf"
      },
      "execution_count": 480,
      "outputs": [
        {
          "output_type": "stream",
          "name": "stdout",
          "text": [
            "<class 'pandas.core.frame.DataFrame'>\n",
            "RangeIndex: 891 entries, 0 to 890\n",
            "Data columns (total 12 columns):\n",
            " #   Column       Non-Null Count  Dtype  \n",
            "---  ------       --------------  -----  \n",
            " 0   PassengerId  891 non-null    int64  \n",
            " 1   Survived     891 non-null    int64  \n",
            " 2   Pclass       891 non-null    int64  \n",
            " 3   Name         891 non-null    object \n",
            " 4   Sex          891 non-null    object \n",
            " 5   Age          891 non-null    float64\n",
            " 6   SibSp        891 non-null    int64  \n",
            " 7   Parch        891 non-null    int64  \n",
            " 8   Ticket       891 non-null    object \n",
            " 9   Fare         891 non-null    float64\n",
            " 10  Cabin        204 non-null    object \n",
            " 11  Embarked     889 non-null    object \n",
            "dtypes: float64(2), int64(5), object(5)\n",
            "memory usage: 83.7+ KB\n"
          ]
        }
      ]
    },
    {
      "cell_type": "markdown",
      "source": [
        "### Cabin values"
      ],
      "metadata": {
        "id": "VFwfuT-di5P_"
      }
    },
    {
      "cell_type": "markdown",
      "metadata": {
        "id": "IFkvWmoqD1RS"
      },
      "source": [
        "Since there's so many values missing in this column, the way we're going to deal with this is creating a new column named **HasCabin**. This process is done so we can keep the information of a passenger's cabin in some way.\n",
        "\n",
        "We are going to map this new column as follow:\n",
        "\n",
        "| Value | Key |\n",
        "|-|-|\n",
        "| Has information | 1 |\n",
        "| NaN | 0 |\n"
      ]
    },
    {
      "cell_type": "code",
      "source": [
        "def create_has_cabin(df: pd.DataFrame) -> None:\n",
        "    mask = df.Cabin.notnull()\n",
        "    df['HasCabin'] = 0\n",
        "    df.loc[mask, 'HasCabin'] = 1\n",
        "    df.drop('Cabin', axis=1, inplace=True)\n",
        "\n",
        "for name, df in zip(('train', 'test'), (train, test)):\n",
        "    create_has_cabin(df)\n",
        "    print(f'Total of passenger info with cabin in {name} dataset: {df.HasCabin.sum()}')"
      ],
      "metadata": {
        "colab": {
          "base_uri": "https://localhost:8080/"
        },
        "id": "aRn8je72Kd3x",
        "outputId": "1bd9446f-9ffa-43a0-bae4-26c730e891a4"
      },
      "execution_count": 481,
      "outputs": [
        {
          "output_type": "stream",
          "name": "stdout",
          "text": [
            "Total of passenger info with cabin in train dataset: 204\n",
            "Total of passenger info with cabin in test dataset: 91\n"
          ]
        }
      ]
    },
    {
      "cell_type": "markdown",
      "source": [
        "At this point forward we are not going to use the **Cabin** column anymore. This will be dropped later."
      ],
      "metadata": {
        "id": "Isvob2HCu3SV"
      }
    },
    {
      "cell_type": "markdown",
      "source": [
        "### Embarked valeus"
      ],
      "metadata": {
        "id": "ZN0fV0YhrNOF"
      }
    },
    {
      "cell_type": "markdown",
      "source": [
        "Gladly there's only 2 missing values in this column. \n",
        "\n",
        "We'll just check which port had the majority of embarks and assume they where from there."
      ],
      "metadata": {
        "id": "H4cWLtDjrQK6"
      }
    },
    {
      "cell_type": "code",
      "source": [
        "train.groupby(['Embarked'])['PassengerId'].agg(['count'])"
      ],
      "metadata": {
        "colab": {
          "base_uri": "https://localhost:8080/",
          "height": 195
        },
        "id": "a5sssPgprss-",
        "outputId": "9beada98-40d4-4d91-efc0-d7592365f2c1"
      },
      "execution_count": 482,
      "outputs": [
        {
          "output_type": "execute_result",
          "data": {
            "text/html": [
              "<div>\n",
              "<style scoped>\n",
              "    .dataframe tbody tr th:only-of-type {\n",
              "        vertical-align: middle;\n",
              "    }\n",
              "\n",
              "    .dataframe tbody tr th {\n",
              "        vertical-align: top;\n",
              "    }\n",
              "\n",
              "    .dataframe thead th {\n",
              "        text-align: right;\n",
              "    }\n",
              "</style>\n",
              "<table border=\"1\" class=\"dataframe\">\n",
              "  <thead>\n",
              "    <tr style=\"text-align: right;\">\n",
              "      <th></th>\n",
              "      <th>count</th>\n",
              "    </tr>\n",
              "    <tr>\n",
              "      <th>Embarked</th>\n",
              "      <th></th>\n",
              "    </tr>\n",
              "  </thead>\n",
              "  <tbody>\n",
              "    <tr>\n",
              "      <th>C</th>\n",
              "      <td>168</td>\n",
              "    </tr>\n",
              "    <tr>\n",
              "      <th>Q</th>\n",
              "      <td>77</td>\n",
              "    </tr>\n",
              "    <tr>\n",
              "      <th>S</th>\n",
              "      <td>644</td>\n",
              "    </tr>\n",
              "  </tbody>\n",
              "</table>\n",
              "</div>"
            ],
            "text/plain": [
              "          count\n",
              "Embarked       \n",
              "C           168\n",
              "Q            77\n",
              "S           644"
            ]
          },
          "metadata": {},
          "execution_count": 482
        }
      ]
    },
    {
      "cell_type": "markdown",
      "source": [
        "Since **Southampton** had most of the embarks, we're going to use it to fill the nan values."
      ],
      "metadata": {
        "id": "mblHiII7uKn3"
      }
    },
    {
      "cell_type": "code",
      "source": [
        "train.Embarked.fillna('S', inplace=True)"
      ],
      "metadata": {
        "id": "9Fw7U7YBugmK"
      },
      "execution_count": 483,
      "outputs": []
    },
    {
      "cell_type": "code",
      "source": [
        "train.info()"
      ],
      "metadata": {
        "colab": {
          "base_uri": "https://localhost:8080/"
        },
        "id": "oPidJBrEuq69",
        "outputId": "c885d85d-c1af-4d1b-9bfc-f1a9a21b06a6"
      },
      "execution_count": 484,
      "outputs": [
        {
          "output_type": "stream",
          "name": "stdout",
          "text": [
            "<class 'pandas.core.frame.DataFrame'>\n",
            "RangeIndex: 891 entries, 0 to 890\n",
            "Data columns (total 12 columns):\n",
            " #   Column       Non-Null Count  Dtype  \n",
            "---  ------       --------------  -----  \n",
            " 0   PassengerId  891 non-null    int64  \n",
            " 1   Survived     891 non-null    int64  \n",
            " 2   Pclass       891 non-null    int64  \n",
            " 3   Name         891 non-null    object \n",
            " 4   Sex          891 non-null    object \n",
            " 5   Age          891 non-null    float64\n",
            " 6   SibSp        891 non-null    int64  \n",
            " 7   Parch        891 non-null    int64  \n",
            " 8   Ticket       891 non-null    object \n",
            " 9   Fare         891 non-null    float64\n",
            " 10  Embarked     891 non-null    object \n",
            " 11  HasCabin     891 non-null    int64  \n",
            "dtypes: float64(2), int64(6), object(4)\n",
            "memory usage: 83.7+ KB\n"
          ]
        }
      ]
    },
    {
      "cell_type": "markdown",
      "source": [
        "### Fare values"
      ],
      "metadata": {
        "id": "LtCaW6n38Bc7"
      }
    },
    {
      "cell_type": "markdown",
      "source": [
        "In the test dataset there one missing value in the **fare** column. As in the age values, we'll fill this gap using the mean value of the **pclass** which this passanger is."
      ],
      "metadata": {
        "id": "hl71jkWN8GqE"
      }
    },
    {
      "cell_type": "code",
      "source": [
        "mask = test.Fare.isna()\n",
        "test.loc[mask, 'Pclass']"
      ],
      "metadata": {
        "colab": {
          "base_uri": "https://localhost:8080/"
        },
        "id": "GFp0T6h7-xnA",
        "outputId": "ae5725da-132a-4b7c-df41-28c98a60d90e"
      },
      "execution_count": 485,
      "outputs": [
        {
          "output_type": "execute_result",
          "data": {
            "text/plain": [
              "152    3\n",
              "Name: Pclass, dtype: int64"
            ]
          },
          "metadata": {},
          "execution_count": 485
        }
      ]
    },
    {
      "cell_type": "code",
      "source": [
        "mask = (test.Fare.notnull()) & (test.Pclass == 3)\n",
        "value = test.loc[mask, 'Fare'].mean()\n",
        "value"
      ],
      "metadata": {
        "colab": {
          "base_uri": "https://localhost:8080/"
        },
        "id": "y1anFRud_uiW",
        "outputId": "166eb8e5-853e-417a-9182-f06cf75c1d75"
      },
      "execution_count": 486,
      "outputs": [
        {
          "output_type": "execute_result",
          "data": {
            "text/plain": [
              "12.459677880184334"
            ]
          },
          "metadata": {},
          "execution_count": 486
        }
      ]
    },
    {
      "cell_type": "code",
      "source": [
        "test.Fare.fillna(value, inplace=True)"
      ],
      "metadata": {
        "id": "YHwXiZ0PABzX"
      },
      "execution_count": 487,
      "outputs": []
    },
    {
      "cell_type": "code",
      "source": [
        "train_nan = train.isna().sum()\n",
        "test_nan = test.isna().sum()\n",
        "index = test_nan.index\n",
        "\n",
        "pd.DataFrame({ '# of NaN in Train': train_nan, '# of NaN in Test': test_nan }, index=index).T"
      ],
      "metadata": {
        "colab": {
          "base_uri": "https://localhost:8080/",
          "height": 236
        },
        "id": "iljioCX1vWfb",
        "outputId": "eb211eb1-d2e0-4357-9ef8-206db198e2c7"
      },
      "execution_count": 488,
      "outputs": [
        {
          "output_type": "execute_result",
          "data": {
            "text/html": [
              "<div>\n",
              "<style scoped>\n",
              "    .dataframe tbody tr th:only-of-type {\n",
              "        vertical-align: middle;\n",
              "    }\n",
              "\n",
              "    .dataframe tbody tr th {\n",
              "        vertical-align: top;\n",
              "    }\n",
              "\n",
              "    .dataframe thead th {\n",
              "        text-align: right;\n",
              "    }\n",
              "</style>\n",
              "<table border=\"1\" class=\"dataframe\">\n",
              "  <thead>\n",
              "    <tr style=\"text-align: right;\">\n",
              "      <th></th>\n",
              "      <th>PassengerId</th>\n",
              "      <th>Pclass</th>\n",
              "      <th>Name</th>\n",
              "      <th>Sex</th>\n",
              "      <th>Age</th>\n",
              "      <th>SibSp</th>\n",
              "      <th>Parch</th>\n",
              "      <th>Ticket</th>\n",
              "      <th>Fare</th>\n",
              "      <th>Embarked</th>\n",
              "      <th>HasCabin</th>\n",
              "    </tr>\n",
              "  </thead>\n",
              "  <tbody>\n",
              "    <tr>\n",
              "      <th># of NaN in Train</th>\n",
              "      <td>0</td>\n",
              "      <td>0</td>\n",
              "      <td>0</td>\n",
              "      <td>0</td>\n",
              "      <td>0</td>\n",
              "      <td>0</td>\n",
              "      <td>0</td>\n",
              "      <td>0</td>\n",
              "      <td>0</td>\n",
              "      <td>0</td>\n",
              "      <td>0</td>\n",
              "    </tr>\n",
              "    <tr>\n",
              "      <th># of NaN in Test</th>\n",
              "      <td>0</td>\n",
              "      <td>0</td>\n",
              "      <td>0</td>\n",
              "      <td>0</td>\n",
              "      <td>0</td>\n",
              "      <td>0</td>\n",
              "      <td>0</td>\n",
              "      <td>0</td>\n",
              "      <td>0</td>\n",
              "      <td>0</td>\n",
              "      <td>0</td>\n",
              "    </tr>\n",
              "  </tbody>\n",
              "</table>\n",
              "</div>"
            ],
            "text/plain": [
              "                   PassengerId  Pclass  Name  ...  Fare  Embarked  HasCabin\n",
              "# of NaN in Train            0       0     0  ...     0         0         0\n",
              "# of NaN in Test             0       0     0  ...     0         0         0\n",
              "\n",
              "[2 rows x 11 columns]"
            ]
          },
          "metadata": {},
          "execution_count": 488
        }
      ]
    },
    {
      "cell_type": "markdown",
      "source": [
        "## Feature engineering"
      ],
      "metadata": {
        "id": "nlM3sfisuqCI"
      }
    },
    {
      "cell_type": "markdown",
      "source": [
        "After cleaning the dataset we can start the process of looking at our features and ask ourselves what kind of information is hidding in there.\n",
        "\n",
        "At this point we are going to create some new features based on the existing ones and hopefully getting some use for those which willl be dropped later."
      ],
      "metadata": {
        "id": "WCs1WjqVvr9O"
      }
    },
    {
      "cell_type": "markdown",
      "source": [
        "### Title"
      ],
      "metadata": {
        "id": "9Nt6N-i3xDfN"
      }
    },
    {
      "cell_type": "markdown",
      "source": [
        "By inspecting the passengers we can see that some of then has some kind of title alongside their name. We will extract this information to a new features named **Title**."
      ],
      "metadata": {
        "id": "Kn2XW8GmxHYs"
      }
    },
    {
      "cell_type": "code",
      "source": [
        "titles = [n.split(',')[1].strip().split('.')[0] for n in train.Name.astype(str)]\n",
        "\n",
        "pd.DataFrame({'titles': titles}).value_counts()"
      ],
      "metadata": {
        "colab": {
          "base_uri": "https://localhost:8080/"
        },
        "id": "bONaLf8ix5-5",
        "outputId": "6fd6f9ac-77c9-4145-b3a1-ec1a6caa25d2"
      },
      "execution_count": 489,
      "outputs": [
        {
          "output_type": "execute_result",
          "data": {
            "text/plain": [
              "titles      \n",
              "Mr              517\n",
              "Miss            182\n",
              "Mrs             125\n",
              "Master           40\n",
              "Dr                7\n",
              "Rev               6\n",
              "Col               2\n",
              "Mlle              2\n",
              "Major             2\n",
              "Jonkheer          1\n",
              "Don               1\n",
              "the Countess      1\n",
              "Lady              1\n",
              "Sir               1\n",
              "Mme               1\n",
              "Ms                1\n",
              "Capt              1\n",
              "dtype: int64"
            ]
          },
          "metadata": {},
          "execution_count": 489
        }
      ]
    },
    {
      "cell_type": "code",
      "source": [
        "len(titles)"
      ],
      "metadata": {
        "colab": {
          "base_uri": "https://localhost:8080/"
        },
        "id": "Q2Op8F7MuWWl",
        "outputId": "44b4d8ae-2e59-4932-81e7-2777ca44a443"
      },
      "execution_count": 490,
      "outputs": [
        {
          "output_type": "execute_result",
          "data": {
            "text/plain": [
              "891"
            ]
          },
          "metadata": {},
          "execution_count": 490
        }
      ]
    },
    {
      "cell_type": "markdown",
      "source": [
        "Since some of the titles above have almost none passengers with it, we will put in use just the first four titles: **Mr.**, **Miss.**, **Mrs.** and **Master.**"
      ],
      "metadata": {
        "id": "F7Rd5db0zDVi"
      }
    },
    {
      "cell_type": "code",
      "source": [
        "def get_titles(df: pd.DataFrame) -> None:\n",
        "    titles = ['Mr.', 'Miss.', 'Mrs.', 'Master.']\n",
        "    names = [name for name in df.Name.astype(str)]\n",
        "    df['Title'] = None\n",
        "\n",
        "    for title in titles:\n",
        "        mask = [title in name for name in names]\n",
        "        df.loc[mask, 'Title'] = title\n",
        "\n",
        "for df in train, test:\n",
        "    get_titles(df)\n",
        "\n",
        "train[['Name', 'Title']]"
      ],
      "metadata": {
        "colab": {
          "base_uri": "https://localhost:8080/",
          "height": 1000
        },
        "id": "GQTMq4Atwd5W",
        "outputId": "97dee09c-00f8-4f8c-e86e-0718d0fd1813"
      },
      "execution_count": 491,
      "outputs": [
        {
          "output_type": "execute_result",
          "data": {
            "text/html": [
              "<div>\n",
              "<style scoped>\n",
              "    .dataframe tbody tr th:only-of-type {\n",
              "        vertical-align: middle;\n",
              "    }\n",
              "\n",
              "    .dataframe tbody tr th {\n",
              "        vertical-align: top;\n",
              "    }\n",
              "\n",
              "    .dataframe thead th {\n",
              "        text-align: right;\n",
              "    }\n",
              "</style>\n",
              "<table border=\"1\" class=\"dataframe\">\n",
              "  <thead>\n",
              "    <tr style=\"text-align: right;\">\n",
              "      <th></th>\n",
              "      <th>Name</th>\n",
              "      <th>Title</th>\n",
              "    </tr>\n",
              "  </thead>\n",
              "  <tbody>\n",
              "    <tr>\n",
              "      <th>0</th>\n",
              "      <td>Braund, Mr. Owen Harris</td>\n",
              "      <td>Mr.</td>\n",
              "    </tr>\n",
              "    <tr>\n",
              "      <th>1</th>\n",
              "      <td>Cumings, Mrs. John Bradley (Florence Briggs Th...</td>\n",
              "      <td>Mrs.</td>\n",
              "    </tr>\n",
              "    <tr>\n",
              "      <th>2</th>\n",
              "      <td>Heikkinen, Miss. Laina</td>\n",
              "      <td>Miss.</td>\n",
              "    </tr>\n",
              "    <tr>\n",
              "      <th>3</th>\n",
              "      <td>Futrelle, Mrs. Jacques Heath (Lily May Peel)</td>\n",
              "      <td>Mrs.</td>\n",
              "    </tr>\n",
              "    <tr>\n",
              "      <th>4</th>\n",
              "      <td>Allen, Mr. William Henry</td>\n",
              "      <td>Mr.</td>\n",
              "    </tr>\n",
              "    <tr>\n",
              "      <th>...</th>\n",
              "      <td>...</td>\n",
              "      <td>...</td>\n",
              "    </tr>\n",
              "    <tr>\n",
              "      <th>886</th>\n",
              "      <td>Montvila, Rev. Juozas</td>\n",
              "      <td>None</td>\n",
              "    </tr>\n",
              "    <tr>\n",
              "      <th>887</th>\n",
              "      <td>Graham, Miss. Margaret Edith</td>\n",
              "      <td>Miss.</td>\n",
              "    </tr>\n",
              "    <tr>\n",
              "      <th>888</th>\n",
              "      <td>Johnston, Miss. Catherine Helen \"Carrie\"</td>\n",
              "      <td>Miss.</td>\n",
              "    </tr>\n",
              "    <tr>\n",
              "      <th>889</th>\n",
              "      <td>Behr, Mr. Karl Howell</td>\n",
              "      <td>Mr.</td>\n",
              "    </tr>\n",
              "    <tr>\n",
              "      <th>890</th>\n",
              "      <td>Dooley, Mr. Patrick</td>\n",
              "      <td>Mr.</td>\n",
              "    </tr>\n",
              "  </tbody>\n",
              "</table>\n",
              "<p>891 rows × 2 columns</p>\n",
              "</div>"
            ],
            "text/plain": [
              "                                                  Name  Title\n",
              "0                              Braund, Mr. Owen Harris    Mr.\n",
              "1    Cumings, Mrs. John Bradley (Florence Briggs Th...   Mrs.\n",
              "2                               Heikkinen, Miss. Laina  Miss.\n",
              "3         Futrelle, Mrs. Jacques Heath (Lily May Peel)   Mrs.\n",
              "4                             Allen, Mr. William Henry    Mr.\n",
              "..                                                 ...    ...\n",
              "886                              Montvila, Rev. Juozas   None\n",
              "887                       Graham, Miss. Margaret Edith  Miss.\n",
              "888           Johnston, Miss. Catherine Helen \"Carrie\"  Miss.\n",
              "889                              Behr, Mr. Karl Howell    Mr.\n",
              "890                                Dooley, Mr. Patrick    Mr.\n",
              "\n",
              "[891 rows x 2 columns]"
            ]
          },
          "metadata": {},
          "execution_count": 491
        }
      ]
    },
    {
      "cell_type": "markdown",
      "source": [
        "### Sex as numbers"
      ],
      "metadata": {
        "id": "Z4uKW1c75GY4"
      }
    },
    {
      "cell_type": "markdown",
      "source": [
        "This column is present in text form, as **male** and **female** values. We'll rewrite this column as:\n",
        "\n",
        "|text|number|\n",
        "|-|-|\n",
        "|male|0|\n",
        "|female|1|"
      ],
      "metadata": {
        "id": "diGB_aTX5QN2"
      }
    },
    {
      "cell_type": "code",
      "source": [
        "def sex_to_number(df: pd.DataFrame) -> None:\n",
        "    map = { 'male': 0, 'female': 1 }\n",
        "    df.Sex = df.Sex.map(map)\n",
        "\n",
        "for df in train, test:\n",
        "    sex_to_number(df)"
      ],
      "metadata": {
        "id": "HTAnr_lC52uq"
      },
      "execution_count": 492,
      "outputs": []
    },
    {
      "cell_type": "code",
      "source": [
        "train.sample(5)"
      ],
      "metadata": {
        "colab": {
          "base_uri": "https://localhost:8080/",
          "height": 452
        },
        "id": "MDrYluTC6S_p",
        "outputId": "a8a30dd5-122b-430f-fb42-9901286d0e73"
      },
      "execution_count": 493,
      "outputs": [
        {
          "output_type": "execute_result",
          "data": {
            "text/html": [
              "<div>\n",
              "<style scoped>\n",
              "    .dataframe tbody tr th:only-of-type {\n",
              "        vertical-align: middle;\n",
              "    }\n",
              "\n",
              "    .dataframe tbody tr th {\n",
              "        vertical-align: top;\n",
              "    }\n",
              "\n",
              "    .dataframe thead th {\n",
              "        text-align: right;\n",
              "    }\n",
              "</style>\n",
              "<table border=\"1\" class=\"dataframe\">\n",
              "  <thead>\n",
              "    <tr style=\"text-align: right;\">\n",
              "      <th></th>\n",
              "      <th>PassengerId</th>\n",
              "      <th>Survived</th>\n",
              "      <th>Pclass</th>\n",
              "      <th>Name</th>\n",
              "      <th>Sex</th>\n",
              "      <th>Age</th>\n",
              "      <th>SibSp</th>\n",
              "      <th>Parch</th>\n",
              "      <th>Ticket</th>\n",
              "      <th>Fare</th>\n",
              "      <th>Embarked</th>\n",
              "      <th>HasCabin</th>\n",
              "      <th>Title</th>\n",
              "    </tr>\n",
              "  </thead>\n",
              "  <tbody>\n",
              "    <tr>\n",
              "      <th>463</th>\n",
              "      <td>464</td>\n",
              "      <td>0</td>\n",
              "      <td>2</td>\n",
              "      <td>Milling, Mr. Jacob Christian</td>\n",
              "      <td>0</td>\n",
              "      <td>48.0</td>\n",
              "      <td>0</td>\n",
              "      <td>0</td>\n",
              "      <td>234360</td>\n",
              "      <td>13.0000</td>\n",
              "      <td>S</td>\n",
              "      <td>0</td>\n",
              "      <td>Mr.</td>\n",
              "    </tr>\n",
              "    <tr>\n",
              "      <th>877</th>\n",
              "      <td>878</td>\n",
              "      <td>0</td>\n",
              "      <td>3</td>\n",
              "      <td>Petroff, Mr. Nedelio</td>\n",
              "      <td>0</td>\n",
              "      <td>19.0</td>\n",
              "      <td>0</td>\n",
              "      <td>0</td>\n",
              "      <td>349212</td>\n",
              "      <td>7.8958</td>\n",
              "      <td>S</td>\n",
              "      <td>0</td>\n",
              "      <td>Mr.</td>\n",
              "    </tr>\n",
              "    <tr>\n",
              "      <th>291</th>\n",
              "      <td>292</td>\n",
              "      <td>1</td>\n",
              "      <td>1</td>\n",
              "      <td>Bishop, Mrs. Dickinson H (Helen Walton)</td>\n",
              "      <td>1</td>\n",
              "      <td>19.0</td>\n",
              "      <td>1</td>\n",
              "      <td>0</td>\n",
              "      <td>11967</td>\n",
              "      <td>91.0792</td>\n",
              "      <td>C</td>\n",
              "      <td>1</td>\n",
              "      <td>Mrs.</td>\n",
              "    </tr>\n",
              "    <tr>\n",
              "      <th>515</th>\n",
              "      <td>516</td>\n",
              "      <td>0</td>\n",
              "      <td>1</td>\n",
              "      <td>Walker, Mr. William Anderson</td>\n",
              "      <td>0</td>\n",
              "      <td>47.0</td>\n",
              "      <td>0</td>\n",
              "      <td>0</td>\n",
              "      <td>36967</td>\n",
              "      <td>34.0208</td>\n",
              "      <td>S</td>\n",
              "      <td>1</td>\n",
              "      <td>Mr.</td>\n",
              "    </tr>\n",
              "    <tr>\n",
              "      <th>500</th>\n",
              "      <td>501</td>\n",
              "      <td>0</td>\n",
              "      <td>3</td>\n",
              "      <td>Calic, Mr. Petar</td>\n",
              "      <td>0</td>\n",
              "      <td>17.0</td>\n",
              "      <td>0</td>\n",
              "      <td>0</td>\n",
              "      <td>315086</td>\n",
              "      <td>8.6625</td>\n",
              "      <td>S</td>\n",
              "      <td>0</td>\n",
              "      <td>Mr.</td>\n",
              "    </tr>\n",
              "  </tbody>\n",
              "</table>\n",
              "</div>"
            ],
            "text/plain": [
              "     PassengerId  Survived  Pclass  ... Embarked  HasCabin  Title\n",
              "463          464         0       2  ...        S         0    Mr.\n",
              "877          878         0       3  ...        S         0    Mr.\n",
              "291          292         1       1  ...        C         1   Mrs.\n",
              "515          516         0       1  ...        S         1    Mr.\n",
              "500          501         0       3  ...        S         0    Mr.\n",
              "\n",
              "[5 rows x 13 columns]"
            ]
          },
          "metadata": {},
          "execution_count": 493
        }
      ]
    },
    {
      "cell_type": "markdown",
      "source": [
        "### One Hot Encoding Title and Embarked"
      ],
      "metadata": {
        "id": "hXUDgx7VvYSa"
      }
    },
    {
      "cell_type": "markdown",
      "source": [
        "In order to use some information present in our dataset, we have to transform it in some numeric form. One way to do is through **one hot encoding**."
      ],
      "metadata": {
        "id": "fAv16Vx4vk4n"
      }
    },
    {
      "cell_type": "code",
      "source": [
        "def one_hot_encoding(df: pd.DataFrame) -> pd.DataFrame:\n",
        "    embark = pd.get_dummies(df.Embarked)\n",
        "    title = pd.get_dummies(df.Title)\n",
        "    return pd.concat([df, embark, title], axis=1).drop(['Embarked', 'Title'], axis=1)\n",
        "\n",
        "train = one_hot_encoding(train)\n",
        "test = one_hot_encoding(test)"
      ],
      "metadata": {
        "id": "X9luGReEv9Mf"
      },
      "execution_count": 494,
      "outputs": []
    },
    {
      "cell_type": "code",
      "source": [
        "train.sample(5)"
      ],
      "metadata": {
        "colab": {
          "base_uri": "https://localhost:8080/",
          "height": 452
        },
        "id": "xqVl2gngx2bt",
        "outputId": "05b110d5-e62f-4daa-e671-ab843d71b1e6"
      },
      "execution_count": 495,
      "outputs": [
        {
          "output_type": "execute_result",
          "data": {
            "text/html": [
              "<div>\n",
              "<style scoped>\n",
              "    .dataframe tbody tr th:only-of-type {\n",
              "        vertical-align: middle;\n",
              "    }\n",
              "\n",
              "    .dataframe tbody tr th {\n",
              "        vertical-align: top;\n",
              "    }\n",
              "\n",
              "    .dataframe thead th {\n",
              "        text-align: right;\n",
              "    }\n",
              "</style>\n",
              "<table border=\"1\" class=\"dataframe\">\n",
              "  <thead>\n",
              "    <tr style=\"text-align: right;\">\n",
              "      <th></th>\n",
              "      <th>PassengerId</th>\n",
              "      <th>Survived</th>\n",
              "      <th>Pclass</th>\n",
              "      <th>Name</th>\n",
              "      <th>Sex</th>\n",
              "      <th>Age</th>\n",
              "      <th>SibSp</th>\n",
              "      <th>Parch</th>\n",
              "      <th>Ticket</th>\n",
              "      <th>Fare</th>\n",
              "      <th>HasCabin</th>\n",
              "      <th>C</th>\n",
              "      <th>Q</th>\n",
              "      <th>S</th>\n",
              "      <th>Master.</th>\n",
              "      <th>Miss.</th>\n",
              "      <th>Mr.</th>\n",
              "      <th>Mrs.</th>\n",
              "    </tr>\n",
              "  </thead>\n",
              "  <tbody>\n",
              "    <tr>\n",
              "      <th>231</th>\n",
              "      <td>232</td>\n",
              "      <td>0</td>\n",
              "      <td>3</td>\n",
              "      <td>Larsson, Mr. Bengt Edvin</td>\n",
              "      <td>0</td>\n",
              "      <td>29.0</td>\n",
              "      <td>0</td>\n",
              "      <td>0</td>\n",
              "      <td>347067</td>\n",
              "      <td>7.775</td>\n",
              "      <td>0</td>\n",
              "      <td>0</td>\n",
              "      <td>0</td>\n",
              "      <td>1</td>\n",
              "      <td>0</td>\n",
              "      <td>0</td>\n",
              "      <td>1</td>\n",
              "      <td>0</td>\n",
              "    </tr>\n",
              "    <tr>\n",
              "      <th>752</th>\n",
              "      <td>753</td>\n",
              "      <td>0</td>\n",
              "      <td>3</td>\n",
              "      <td>Vande Velde, Mr. Johannes Joseph</td>\n",
              "      <td>0</td>\n",
              "      <td>33.0</td>\n",
              "      <td>0</td>\n",
              "      <td>0</td>\n",
              "      <td>345780</td>\n",
              "      <td>9.500</td>\n",
              "      <td>0</td>\n",
              "      <td>0</td>\n",
              "      <td>0</td>\n",
              "      <td>1</td>\n",
              "      <td>0</td>\n",
              "      <td>0</td>\n",
              "      <td>1</td>\n",
              "      <td>0</td>\n",
              "    </tr>\n",
              "    <tr>\n",
              "      <th>573</th>\n",
              "      <td>574</td>\n",
              "      <td>1</td>\n",
              "      <td>3</td>\n",
              "      <td>Kelly, Miss. Mary</td>\n",
              "      <td>1</td>\n",
              "      <td>27.0</td>\n",
              "      <td>0</td>\n",
              "      <td>0</td>\n",
              "      <td>14312</td>\n",
              "      <td>7.750</td>\n",
              "      <td>0</td>\n",
              "      <td>0</td>\n",
              "      <td>1</td>\n",
              "      <td>0</td>\n",
              "      <td>0</td>\n",
              "      <td>1</td>\n",
              "      <td>0</td>\n",
              "      <td>0</td>\n",
              "    </tr>\n",
              "    <tr>\n",
              "      <th>418</th>\n",
              "      <td>419</td>\n",
              "      <td>0</td>\n",
              "      <td>2</td>\n",
              "      <td>Matthews, Mr. William John</td>\n",
              "      <td>0</td>\n",
              "      <td>30.0</td>\n",
              "      <td>0</td>\n",
              "      <td>0</td>\n",
              "      <td>28228</td>\n",
              "      <td>13.000</td>\n",
              "      <td>0</td>\n",
              "      <td>0</td>\n",
              "      <td>0</td>\n",
              "      <td>1</td>\n",
              "      <td>0</td>\n",
              "      <td>0</td>\n",
              "      <td>1</td>\n",
              "      <td>0</td>\n",
              "    </tr>\n",
              "    <tr>\n",
              "      <th>505</th>\n",
              "      <td>506</td>\n",
              "      <td>0</td>\n",
              "      <td>1</td>\n",
              "      <td>Penasco y Castellana, Mr. Victor de Satode</td>\n",
              "      <td>0</td>\n",
              "      <td>18.0</td>\n",
              "      <td>1</td>\n",
              "      <td>0</td>\n",
              "      <td>PC 17758</td>\n",
              "      <td>108.900</td>\n",
              "      <td>1</td>\n",
              "      <td>1</td>\n",
              "      <td>0</td>\n",
              "      <td>0</td>\n",
              "      <td>0</td>\n",
              "      <td>0</td>\n",
              "      <td>1</td>\n",
              "      <td>0</td>\n",
              "    </tr>\n",
              "  </tbody>\n",
              "</table>\n",
              "</div>"
            ],
            "text/plain": [
              "     PassengerId  Survived  Pclass  ... Miss.  Mr.  Mrs.\n",
              "231          232         0       3  ...     0    1     0\n",
              "752          753         0       3  ...     0    1     0\n",
              "573          574         1       3  ...     1    0     0\n",
              "418          419         0       2  ...     0    1     0\n",
              "505          506         0       1  ...     0    1     0\n",
              "\n",
              "[5 rows x 18 columns]"
            ]
          },
          "metadata": {},
          "execution_count": 495
        }
      ]
    },
    {
      "cell_type": "markdown",
      "source": [
        "### Family information"
      ],
      "metadata": {
        "id": "vG55U-KkzIOe"
      }
    },
    {
      "cell_type": "markdown",
      "source": [
        "We have in our dataset some information about the passenger families. Those information are:\n",
        "\n",
        "|Column |    Description                                 |\n",
        "|-------|------------------------------------------------|\n",
        "|sibsp  |    # of siblings / spouses aboard the Titanic  |\n",
        "|parch  |\t# of parents / children aboard the Titanic \t |\n",
        "\n",
        "<br>\n",
        "\n",
        "From these columns we can create two new columns named **FamilySize**, based on the sum of **sbisp** and **parch**"
      ],
      "metadata": {
        "id": "tHHJQ9i4zOXp"
      }
    },
    {
      "cell_type": "code",
      "source": [
        "def get_familysize(df: pd.DataFrame) -> None:\n",
        "    df['FamilySize'] = df.SibSp + df.Parch\n",
        "\n",
        "for df in train, test:\n",
        "    get_familysize(df)\n",
        "\n",
        "train.sample(10)"
      ],
      "metadata": {
        "colab": {
          "base_uri": "https://localhost:8080/",
          "height": 363
        },
        "id": "s6HosIVC0V5Y",
        "outputId": "ec9dfcad-e1b3-47ac-c98f-587331282816"
      },
      "execution_count": 496,
      "outputs": [
        {
          "output_type": "execute_result",
          "data": {
            "text/html": [
              "<div>\n",
              "<style scoped>\n",
              "    .dataframe tbody tr th:only-of-type {\n",
              "        vertical-align: middle;\n",
              "    }\n",
              "\n",
              "    .dataframe tbody tr th {\n",
              "        vertical-align: top;\n",
              "    }\n",
              "\n",
              "    .dataframe thead th {\n",
              "        text-align: right;\n",
              "    }\n",
              "</style>\n",
              "<table border=\"1\" class=\"dataframe\">\n",
              "  <thead>\n",
              "    <tr style=\"text-align: right;\">\n",
              "      <th></th>\n",
              "      <th>PassengerId</th>\n",
              "      <th>Survived</th>\n",
              "      <th>Pclass</th>\n",
              "      <th>Name</th>\n",
              "      <th>Sex</th>\n",
              "      <th>Age</th>\n",
              "      <th>SibSp</th>\n",
              "      <th>Parch</th>\n",
              "      <th>Ticket</th>\n",
              "      <th>Fare</th>\n",
              "      <th>HasCabin</th>\n",
              "      <th>C</th>\n",
              "      <th>Q</th>\n",
              "      <th>S</th>\n",
              "      <th>Master.</th>\n",
              "      <th>Miss.</th>\n",
              "      <th>Mr.</th>\n",
              "      <th>Mrs.</th>\n",
              "      <th>FamilySize</th>\n",
              "    </tr>\n",
              "  </thead>\n",
              "  <tbody>\n",
              "    <tr>\n",
              "      <th>375</th>\n",
              "      <td>376</td>\n",
              "      <td>1</td>\n",
              "      <td>1</td>\n",
              "      <td>Meyer, Mrs. Edgar Joseph (Leila Saks)</td>\n",
              "      <td>1</td>\n",
              "      <td>27.0</td>\n",
              "      <td>1</td>\n",
              "      <td>0</td>\n",
              "      <td>PC 17604</td>\n",
              "      <td>82.1708</td>\n",
              "      <td>0</td>\n",
              "      <td>1</td>\n",
              "      <td>0</td>\n",
              "      <td>0</td>\n",
              "      <td>0</td>\n",
              "      <td>0</td>\n",
              "      <td>0</td>\n",
              "      <td>1</td>\n",
              "      <td>1</td>\n",
              "    </tr>\n",
              "    <tr>\n",
              "      <th>584</th>\n",
              "      <td>585</td>\n",
              "      <td>0</td>\n",
              "      <td>3</td>\n",
              "      <td>Paulner, Mr. Uscher</td>\n",
              "      <td>0</td>\n",
              "      <td>30.0</td>\n",
              "      <td>0</td>\n",
              "      <td>0</td>\n",
              "      <td>3411</td>\n",
              "      <td>8.7125</td>\n",
              "      <td>0</td>\n",
              "      <td>1</td>\n",
              "      <td>0</td>\n",
              "      <td>0</td>\n",
              "      <td>0</td>\n",
              "      <td>0</td>\n",
              "      <td>1</td>\n",
              "      <td>0</td>\n",
              "      <td>0</td>\n",
              "    </tr>\n",
              "    <tr>\n",
              "      <th>759</th>\n",
              "      <td>760</td>\n",
              "      <td>1</td>\n",
              "      <td>1</td>\n",
              "      <td>Rothes, the Countess. of (Lucy Noel Martha Dye...</td>\n",
              "      <td>1</td>\n",
              "      <td>33.0</td>\n",
              "      <td>0</td>\n",
              "      <td>0</td>\n",
              "      <td>110152</td>\n",
              "      <td>86.5000</td>\n",
              "      <td>1</td>\n",
              "      <td>0</td>\n",
              "      <td>0</td>\n",
              "      <td>1</td>\n",
              "      <td>0</td>\n",
              "      <td>0</td>\n",
              "      <td>0</td>\n",
              "      <td>0</td>\n",
              "      <td>0</td>\n",
              "    </tr>\n",
              "    <tr>\n",
              "      <th>229</th>\n",
              "      <td>230</td>\n",
              "      <td>0</td>\n",
              "      <td>3</td>\n",
              "      <td>Lefebre, Miss. Mathilde</td>\n",
              "      <td>1</td>\n",
              "      <td>27.0</td>\n",
              "      <td>3</td>\n",
              "      <td>1</td>\n",
              "      <td>4133</td>\n",
              "      <td>25.4667</td>\n",
              "      <td>0</td>\n",
              "      <td>0</td>\n",
              "      <td>0</td>\n",
              "      <td>1</td>\n",
              "      <td>0</td>\n",
              "      <td>1</td>\n",
              "      <td>0</td>\n",
              "      <td>0</td>\n",
              "      <td>4</td>\n",
              "    </tr>\n",
              "    <tr>\n",
              "      <th>95</th>\n",
              "      <td>96</td>\n",
              "      <td>0</td>\n",
              "      <td>3</td>\n",
              "      <td>Shorney, Mr. Charles Joseph</td>\n",
              "      <td>0</td>\n",
              "      <td>30.0</td>\n",
              "      <td>0</td>\n",
              "      <td>0</td>\n",
              "      <td>374910</td>\n",
              "      <td>8.0500</td>\n",
              "      <td>0</td>\n",
              "      <td>0</td>\n",
              "      <td>0</td>\n",
              "      <td>1</td>\n",
              "      <td>0</td>\n",
              "      <td>0</td>\n",
              "      <td>1</td>\n",
              "      <td>0</td>\n",
              "      <td>0</td>\n",
              "    </tr>\n",
              "    <tr>\n",
              "      <th>358</th>\n",
              "      <td>359</td>\n",
              "      <td>1</td>\n",
              "      <td>3</td>\n",
              "      <td>McGovern, Miss. Mary</td>\n",
              "      <td>1</td>\n",
              "      <td>27.0</td>\n",
              "      <td>0</td>\n",
              "      <td>0</td>\n",
              "      <td>330931</td>\n",
              "      <td>7.8792</td>\n",
              "      <td>0</td>\n",
              "      <td>0</td>\n",
              "      <td>1</td>\n",
              "      <td>0</td>\n",
              "      <td>0</td>\n",
              "      <td>1</td>\n",
              "      <td>0</td>\n",
              "      <td>0</td>\n",
              "      <td>0</td>\n",
              "    </tr>\n",
              "    <tr>\n",
              "      <th>406</th>\n",
              "      <td>407</td>\n",
              "      <td>0</td>\n",
              "      <td>3</td>\n",
              "      <td>Widegren, Mr. Carl/Charles Peter</td>\n",
              "      <td>0</td>\n",
              "      <td>51.0</td>\n",
              "      <td>0</td>\n",
              "      <td>0</td>\n",
              "      <td>347064</td>\n",
              "      <td>7.7500</td>\n",
              "      <td>0</td>\n",
              "      <td>0</td>\n",
              "      <td>0</td>\n",
              "      <td>1</td>\n",
              "      <td>0</td>\n",
              "      <td>0</td>\n",
              "      <td>1</td>\n",
              "      <td>0</td>\n",
              "      <td>0</td>\n",
              "    </tr>\n",
              "    <tr>\n",
              "      <th>316</th>\n",
              "      <td>317</td>\n",
              "      <td>1</td>\n",
              "      <td>2</td>\n",
              "      <td>Kantor, Mrs. Sinai (Miriam Sternin)</td>\n",
              "      <td>1</td>\n",
              "      <td>24.0</td>\n",
              "      <td>1</td>\n",
              "      <td>0</td>\n",
              "      <td>244367</td>\n",
              "      <td>26.0000</td>\n",
              "      <td>0</td>\n",
              "      <td>0</td>\n",
              "      <td>0</td>\n",
              "      <td>1</td>\n",
              "      <td>0</td>\n",
              "      <td>0</td>\n",
              "      <td>0</td>\n",
              "      <td>1</td>\n",
              "      <td>1</td>\n",
              "    </tr>\n",
              "    <tr>\n",
              "      <th>662</th>\n",
              "      <td>663</td>\n",
              "      <td>0</td>\n",
              "      <td>1</td>\n",
              "      <td>Colley, Mr. Edward Pomeroy</td>\n",
              "      <td>0</td>\n",
              "      <td>47.0</td>\n",
              "      <td>0</td>\n",
              "      <td>0</td>\n",
              "      <td>5727</td>\n",
              "      <td>25.5875</td>\n",
              "      <td>1</td>\n",
              "      <td>0</td>\n",
              "      <td>0</td>\n",
              "      <td>1</td>\n",
              "      <td>0</td>\n",
              "      <td>0</td>\n",
              "      <td>1</td>\n",
              "      <td>0</td>\n",
              "      <td>0</td>\n",
              "    </tr>\n",
              "    <tr>\n",
              "      <th>621</th>\n",
              "      <td>622</td>\n",
              "      <td>1</td>\n",
              "      <td>1</td>\n",
              "      <td>Kimball, Mr. Edwin Nelson Jr</td>\n",
              "      <td>0</td>\n",
              "      <td>42.0</td>\n",
              "      <td>1</td>\n",
              "      <td>0</td>\n",
              "      <td>11753</td>\n",
              "      <td>52.5542</td>\n",
              "      <td>1</td>\n",
              "      <td>0</td>\n",
              "      <td>0</td>\n",
              "      <td>1</td>\n",
              "      <td>0</td>\n",
              "      <td>0</td>\n",
              "      <td>1</td>\n",
              "      <td>0</td>\n",
              "      <td>1</td>\n",
              "    </tr>\n",
              "  </tbody>\n",
              "</table>\n",
              "</div>"
            ],
            "text/plain": [
              "     PassengerId  Survived  Pclass  ... Mr.  Mrs.  FamilySize\n",
              "375          376         1       1  ...   0     1           1\n",
              "584          585         0       3  ...   1     0           0\n",
              "759          760         1       1  ...   0     0           0\n",
              "229          230         0       3  ...   0     0           4\n",
              "95            96         0       3  ...   1     0           0\n",
              "358          359         1       3  ...   0     0           0\n",
              "406          407         0       3  ...   1     0           0\n",
              "316          317         1       2  ...   0     1           1\n",
              "662          663         0       1  ...   1     0           0\n",
              "621          622         1       1  ...   1     0           1\n",
              "\n",
              "[10 rows x 19 columns]"
            ]
          },
          "metadata": {},
          "execution_count": 496
        }
      ]
    },
    {
      "cell_type": "code",
      "source": [
        "train_nan = train.isna().sum()\n",
        "test_nan = test.isna().sum()\n",
        "index = test_nan.index\n",
        "\n",
        "pd.DataFrame({ '# of NaN in Train': train_nan, '# of NaN in Test': test_nan }, index=index).T"
      ],
      "metadata": {
        "colab": {
          "base_uri": "https://localhost:8080/",
          "height": 112
        },
        "id": "qOuOCFl53U2C",
        "outputId": "b73671b0-00dd-47ee-a94b-e69c55e92a5a"
      },
      "execution_count": 497,
      "outputs": [
        {
          "output_type": "execute_result",
          "data": {
            "text/html": [
              "<div>\n",
              "<style scoped>\n",
              "    .dataframe tbody tr th:only-of-type {\n",
              "        vertical-align: middle;\n",
              "    }\n",
              "\n",
              "    .dataframe tbody tr th {\n",
              "        vertical-align: top;\n",
              "    }\n",
              "\n",
              "    .dataframe thead th {\n",
              "        text-align: right;\n",
              "    }\n",
              "</style>\n",
              "<table border=\"1\" class=\"dataframe\">\n",
              "  <thead>\n",
              "    <tr style=\"text-align: right;\">\n",
              "      <th></th>\n",
              "      <th>PassengerId</th>\n",
              "      <th>Pclass</th>\n",
              "      <th>Name</th>\n",
              "      <th>Sex</th>\n",
              "      <th>Age</th>\n",
              "      <th>SibSp</th>\n",
              "      <th>Parch</th>\n",
              "      <th>Ticket</th>\n",
              "      <th>Fare</th>\n",
              "      <th>HasCabin</th>\n",
              "      <th>C</th>\n",
              "      <th>Q</th>\n",
              "      <th>S</th>\n",
              "      <th>Master.</th>\n",
              "      <th>Miss.</th>\n",
              "      <th>Mr.</th>\n",
              "      <th>Mrs.</th>\n",
              "      <th>FamilySize</th>\n",
              "    </tr>\n",
              "  </thead>\n",
              "  <tbody>\n",
              "    <tr>\n",
              "      <th># of NaN in Train</th>\n",
              "      <td>0</td>\n",
              "      <td>0</td>\n",
              "      <td>0</td>\n",
              "      <td>0</td>\n",
              "      <td>0</td>\n",
              "      <td>0</td>\n",
              "      <td>0</td>\n",
              "      <td>0</td>\n",
              "      <td>0</td>\n",
              "      <td>0</td>\n",
              "      <td>0</td>\n",
              "      <td>0</td>\n",
              "      <td>0</td>\n",
              "      <td>0</td>\n",
              "      <td>0</td>\n",
              "      <td>0</td>\n",
              "      <td>0</td>\n",
              "      <td>0</td>\n",
              "    </tr>\n",
              "    <tr>\n",
              "      <th># of NaN in Test</th>\n",
              "      <td>0</td>\n",
              "      <td>0</td>\n",
              "      <td>0</td>\n",
              "      <td>0</td>\n",
              "      <td>0</td>\n",
              "      <td>0</td>\n",
              "      <td>0</td>\n",
              "      <td>0</td>\n",
              "      <td>0</td>\n",
              "      <td>0</td>\n",
              "      <td>0</td>\n",
              "      <td>0</td>\n",
              "      <td>0</td>\n",
              "      <td>0</td>\n",
              "      <td>0</td>\n",
              "      <td>0</td>\n",
              "      <td>0</td>\n",
              "      <td>0</td>\n",
              "    </tr>\n",
              "  </tbody>\n",
              "</table>\n",
              "</div>"
            ],
            "text/plain": [
              "                   PassengerId  Pclass  Name  Sex  ...  Miss.  Mr.  Mrs.  FamilySize\n",
              "# of NaN in Train            0       0     0    0  ...      0    0     0           0\n",
              "# of NaN in Test             0       0     0    0  ...      0    0     0           0\n",
              "\n",
              "[2 rows x 18 columns]"
            ]
          },
          "metadata": {},
          "execution_count": 497
        }
      ]
    },
    {
      "cell_type": "markdown",
      "source": [
        "## Features Correlation"
      ],
      "metadata": {
        "id": "jPH3ujHa2F7M"
      }
    },
    {
      "cell_type": "markdown",
      "source": [
        "At this point with all the cleaning and engineering done we can take a minute before start working in our models and watch more carefully what kind of history our data tell us.\n",
        "\n",
        "But first, let's get rid of all non numeric data."
      ],
      "metadata": {
        "id": "E7tLRRte2K2L"
      }
    },
    {
      "cell_type": "code",
      "source": [
        "train.info()"
      ],
      "metadata": {
        "colab": {
          "base_uri": "https://localhost:8080/"
        },
        "id": "yh2nkKFM3ExI",
        "outputId": "3c2ce056-5d28-499e-ea2c-8319e3c641ab"
      },
      "execution_count": 498,
      "outputs": [
        {
          "output_type": "stream",
          "name": "stdout",
          "text": [
            "<class 'pandas.core.frame.DataFrame'>\n",
            "RangeIndex: 891 entries, 0 to 890\n",
            "Data columns (total 19 columns):\n",
            " #   Column       Non-Null Count  Dtype  \n",
            "---  ------       --------------  -----  \n",
            " 0   PassengerId  891 non-null    int64  \n",
            " 1   Survived     891 non-null    int64  \n",
            " 2   Pclass       891 non-null    int64  \n",
            " 3   Name         891 non-null    object \n",
            " 4   Sex          891 non-null    int64  \n",
            " 5   Age          891 non-null    float64\n",
            " 6   SibSp        891 non-null    int64  \n",
            " 7   Parch        891 non-null    int64  \n",
            " 8   Ticket       891 non-null    object \n",
            " 9   Fare         891 non-null    float64\n",
            " 10  HasCabin     891 non-null    int64  \n",
            " 11  C            891 non-null    uint8  \n",
            " 12  Q            891 non-null    uint8  \n",
            " 13  S            891 non-null    uint8  \n",
            " 14  Master.      891 non-null    uint8  \n",
            " 15  Miss.        891 non-null    uint8  \n",
            " 16  Mr.          891 non-null    uint8  \n",
            " 17  Mrs.         891 non-null    uint8  \n",
            " 18  FamilySize   891 non-null    int64  \n",
            "dtypes: float64(2), int64(8), object(2), uint8(7)\n",
            "memory usage: 89.7+ KB\n"
          ]
        }
      ]
    },
    {
      "cell_type": "markdown",
      "source": [
        "These features are: **Name** and **Ticket**.\n",
        "We will drop the **PassengerId** because it doesn't bring no information about the surviability of the passenger."
      ],
      "metadata": {
        "id": "nwOpnAOF4JQL"
      }
    },
    {
      "cell_type": "code",
      "source": [
        "# PassengerId is needed to submissions\n",
        "train.drop(['Name', 'Ticket'], axis=1, inplace=True)\n",
        "test.drop(['Name', 'Ticket'], axis=1, inplace=True)"
      ],
      "metadata": {
        "id": "VJf5eHnP6xpL"
      },
      "execution_count": 499,
      "outputs": []
    },
    {
      "cell_type": "code",
      "source": [
        "data = train\n",
        "pallete = sns.color_palette(\"magma_r\", as_cmap=True)\n",
        "\n",
        "data = abs(train.corr())\n",
        "tril = np.tril(np.ones(data.shape), k=-1).astype(bool)\n",
        "data = data.where(tril)\n",
        "\n",
        "plt.figure(figsize=(12,9))\n",
        "plt.title('Feature Correlation', fontsize=14)\n",
        "sns.heatmap(data=data, annot=True, linewidths=.5, cmap=pallete);"
      ],
      "metadata": {
        "colab": {
          "base_uri": "https://localhost:8080/",
          "height": 605
        },
        "id": "JDDmeD478Zcv",
        "outputId": "cb09d146-9e6e-4fc9-b3a6-535c88e6098a"
      },
      "execution_count": 500,
      "outputs": [
        {
          "output_type": "display_data",
          "data": {
            "image/png": "[encoded data removed]",
            "text/plain": [
              "<Figure size 864x648 with 2 Axes>"
            ]
          },
          "metadata": {
            "needs_background": "light"
          }
        }
      ]
    },
    {
      "cell_type": "markdown",
      "source": [
        "From the heatmap above we can see some surpringly strong correlated features, like **HasCabin** and **Pclass**, **Mr.** and **Survived**.\n",
        "\n",
        "Let's watch the first pair a little closer"
      ],
      "metadata": {
        "id": "M8WyHi5drRHP"
      }
    },
    {
      "cell_type": "markdown",
      "source": [
        "### HasCabin and Pclass"
      ],
      "metadata": {
        "id": "wuSpG_wG-yks"
      }
    },
    {
      "cell_type": "code",
      "source": [
        "train.groupby('Pclass')['HasCabin'].sum()"
      ],
      "metadata": {
        "colab": {
          "base_uri": "https://localhost:8080/"
        },
        "id": "4SthhTe_tNs5",
        "outputId": "0f2869b0-97cc-4927-c530-0e59ae1bedbd"
      },
      "execution_count": 501,
      "outputs": [
        {
          "output_type": "execute_result",
          "data": {
            "text/plain": [
              "Pclass\n",
              "1    176\n",
              "2     16\n",
              "3     12\n",
              "Name: HasCabin, dtype: int64"
            ]
          },
          "metadata": {},
          "execution_count": 501
        }
      ]
    },
    {
      "cell_type": "code",
      "source": [
        "has_cabin_rate = train.groupby('Pclass')\n",
        "has_cabin_rate = has_cabin_rate['HasCabin'].sum() / has_cabin_rate['Pclass'].value_counts()\n",
        "has_cabin_rate = has_cabin_rate.droplevel(level=0)\n",
        "\n",
        "plt.title('Cabin information rate by class', fontsize=14)\n",
        "sns.barplot(x=has_cabin_rate.index, y=has_cabin_rate)\n",
        "plt.ylabel('Cabin info. rate', fontsize=12)\n",
        "plt.grid(axis='y')\n",
        "plt.show()"
      ],
      "metadata": {
        "colab": {
          "base_uri": "https://localhost:8080/",
          "height": 296
        },
        "id": "5dwc0du0swwU",
        "outputId": "3b52ae50-3db4-46a4-db41-28d6aef14489"
      },
      "execution_count": 502,
      "outputs": [
        {
          "output_type": "display_data",
          "data": {
            "image/png": "[encoded data removed]",
            "text/plain": [
              "<Figure size 432x288 with 1 Axes>"
            ]
          },
          "metadata": {
            "needs_background": "light"
          }
        }
      ]
    },
    {
      "cell_type": "markdown",
      "source": [
        "Most of the passengers that has some information of their **cabin** was in the first class. Based in the fact tha there's a fairly strong correlation between **pclass** and **survived**. Since its fair to assume that those who was in the first class probably was prioritized for taking the life save boats, we can suspect that those who has **cabin** information have a **higher survivability** rate."
      ],
      "metadata": {
        "id": "hKv0R5l3u0CT"
      }
    },
    {
      "cell_type": "code",
      "source": [
        "fig, ax = plt.subplots(nrows=1, ncols=2, figsize=(15,5), sharey=True)\n",
        "ax[0].set_ylabel('Survival rate', fontsize=12)\n",
        "\n",
        "plt.suptitle('Survival rate by Class and Cabin info.', fontsize=14)\n",
        "for k, v in { 'Pclass': 0, 'HasCabin': 1 }.items():\n",
        "    survival_rate = train.groupby(k)\n",
        "    survival_rate = survival_rate['Survived'].sum() / survival_rate[k].value_counts()\n",
        "    survival_rate = survival_rate.droplevel(level=0)\n",
        "\n",
        "    sns.barplot(x=survival_rate.index, y=survival_rate, ax=ax[v])\n",
        "    ax[v].grid(True, axis='y')"
      ],
      "metadata": {
        "colab": {
          "base_uri": "https://localhost:8080/",
          "height": 370
        },
        "id": "ImuH0TTowT6D",
        "outputId": "185ac5cb-290d-4fc6-c99e-6bbedab36b6a"
      },
      "execution_count": 503,
      "outputs": [
        {
          "output_type": "display_data",
          "data": {
            "image/png": "[encoded data removed]",
            "text/plain": [
              "<Figure size 1080x360 with 2 Axes>"
            ]
          },
          "metadata": {
            "needs_background": "light"
          }
        }
      ]
    },
    {
      "cell_type": "markdown",
      "source": [
        "From the graphics above we can see that the chances of survive of those who has cabin is more than double of those who hasn't. Even so those fron the second class have just aproximately 15% less chance of survive than those in first class, much more compareted with those in third class."
      ],
      "metadata": {
        "id": "vVi0HqXx8C1F"
      }
    },
    {
      "cell_type": "markdown",
      "source": [
        "### Mr. Survived"
      ],
      "metadata": {
        "id": "r0p5zYR---Gf"
      }
    },
    {
      "cell_type": "markdown",
      "source": [
        "Similarly in the case above, let's check the rate of titles per sex."
      ],
      "metadata": {
        "id": "l5k_fXy6GIqk"
      }
    },
    {
      "cell_type": "code",
      "source": [
        "titles = ['Master.', 'Miss.', 'Mr.', 'Mrs.']\n",
        "titles_by_sex = train.groupby('Sex')[titles].sum()\n",
        "titles_by_sex['Count'] = train.Sex.value_counts()\n",
        "titles_by_sex.reset_index(inplace=True)\n",
        "titles_by_sex"
      ],
      "metadata": {
        "colab": {
          "base_uri": "https://localhost:8080/",
          "height": 112
        },
        "id": "L_QwIbGu_Ff6",
        "outputId": "c00ab0a8-16dd-4de1-fa62-767a07b6bae8"
      },
      "execution_count": 504,
      "outputs": [
        {
          "output_type": "execute_result",
          "data": {
            "text/html": [
              "<div>\n",
              "<style scoped>\n",
              "    .dataframe tbody tr th:only-of-type {\n",
              "        vertical-align: middle;\n",
              "    }\n",
              "\n",
              "    .dataframe tbody tr th {\n",
              "        vertical-align: top;\n",
              "    }\n",
              "\n",
              "    .dataframe thead th {\n",
              "        text-align: right;\n",
              "    }\n",
              "</style>\n",
              "<table border=\"1\" class=\"dataframe\">\n",
              "  <thead>\n",
              "    <tr style=\"text-align: right;\">\n",
              "      <th></th>\n",
              "      <th>Sex</th>\n",
              "      <th>Master.</th>\n",
              "      <th>Miss.</th>\n",
              "      <th>Mr.</th>\n",
              "      <th>Mrs.</th>\n",
              "      <th>Count</th>\n",
              "    </tr>\n",
              "  </thead>\n",
              "  <tbody>\n",
              "    <tr>\n",
              "      <th>0</th>\n",
              "      <td>0</td>\n",
              "      <td>40.0</td>\n",
              "      <td>0.0</td>\n",
              "      <td>517.0</td>\n",
              "      <td>0.0</td>\n",
              "      <td>577</td>\n",
              "    </tr>\n",
              "    <tr>\n",
              "      <th>1</th>\n",
              "      <td>1</td>\n",
              "      <td>0.0</td>\n",
              "      <td>182.0</td>\n",
              "      <td>0.0</td>\n",
              "      <td>125.0</td>\n",
              "      <td>314</td>\n",
              "    </tr>\n",
              "  </tbody>\n",
              "</table>\n",
              "</div>"
            ],
            "text/plain": [
              "   Sex  Master.  Miss.    Mr.   Mrs.  Count\n",
              "0    0     40.0    0.0  517.0    0.0    577\n",
              "1    1      0.0  182.0    0.0  125.0    314"
            ]
          },
          "metadata": {},
          "execution_count": 504
        }
      ]
    },
    {
      "cell_type": "code",
      "source": [
        "for title in titles:\n",
        "    titles_by_sex[title] = titles_by_sex[title] / titles_by_sex['Count']\n",
        "\n",
        "titles_by_sex"
      ],
      "metadata": {
        "colab": {
          "base_uri": "https://localhost:8080/",
          "height": 112
        },
        "id": "npVZG8KwKQjM",
        "outputId": "9159bdd7-be2d-459f-8901-f038f6068462"
      },
      "execution_count": 505,
      "outputs": [
        {
          "output_type": "execute_result",
          "data": {
            "text/html": [
              "<div>\n",
              "<style scoped>\n",
              "    .dataframe tbody tr th:only-of-type {\n",
              "        vertical-align: middle;\n",
              "    }\n",
              "\n",
              "    .dataframe tbody tr th {\n",
              "        vertical-align: top;\n",
              "    }\n",
              "\n",
              "    .dataframe thead th {\n",
              "        text-align: right;\n",
              "    }\n",
              "</style>\n",
              "<table border=\"1\" class=\"dataframe\">\n",
              "  <thead>\n",
              "    <tr style=\"text-align: right;\">\n",
              "      <th></th>\n",
              "      <th>Sex</th>\n",
              "      <th>Master.</th>\n",
              "      <th>Miss.</th>\n",
              "      <th>Mr.</th>\n",
              "      <th>Mrs.</th>\n",
              "      <th>Count</th>\n",
              "    </tr>\n",
              "  </thead>\n",
              "  <tbody>\n",
              "    <tr>\n",
              "      <th>0</th>\n",
              "      <td>0</td>\n",
              "      <td>0.069324</td>\n",
              "      <td>0.000000</td>\n",
              "      <td>0.896014</td>\n",
              "      <td>0.000000</td>\n",
              "      <td>577</td>\n",
              "    </tr>\n",
              "    <tr>\n",
              "      <th>1</th>\n",
              "      <td>1</td>\n",
              "      <td>0.000000</td>\n",
              "      <td>0.579618</td>\n",
              "      <td>0.000000</td>\n",
              "      <td>0.398089</td>\n",
              "      <td>314</td>\n",
              "    </tr>\n",
              "  </tbody>\n",
              "</table>\n",
              "</div>"
            ],
            "text/plain": [
              "   Sex   Master.     Miss.       Mr.      Mrs.  Count\n",
              "0    0  0.069324  0.000000  0.896014  0.000000    577\n",
              "1    1  0.000000  0.579618  0.000000  0.398089    314"
            ]
          },
          "metadata": {},
          "execution_count": 505
        }
      ]
    },
    {
      "cell_type": "code",
      "source": [
        "fig, ax = plt.subplots(nrows=1, ncols=2, figsize=(15,5), sharey=True)\n",
        "ax[0].set_ylabel('Title rate', fontsize=12)\n",
        "\n",
        "plt.suptitle('Titles rate by gender', fontsize=14)\n",
        "for k, v in { 0: ['Master.', 'Mr.'], 1: ['Miss.', 'Mrs.'] }.items():\n",
        "    mask = titles_by_sex.Sex == k\n",
        "    data = titles_by_sex.loc[mask, v]\n",
        "\n",
        "    sns.barplot(data=data, ax=ax[k])\n",
        "    ax[k].grid(True, axis='y')"
      ],
      "metadata": {
        "colab": {
          "base_uri": "https://localhost:8080/",
          "height": 356
        },
        "id": "7VmpsVAEE8r8",
        "outputId": "7728b8f5-bcdd-490a-af9a-bf3cdce45c22"
      },
      "execution_count": 506,
      "outputs": [
        {
          "output_type": "display_data",
          "data": {
            "image/png": "[encoded data removed]",
            "text/plain": [
              "<Figure size 1080x360 with 2 Axes>"
            ]
          },
          "metadata": {
            "needs_background": "light"
          }
        }
      ]
    },
    {
      "cell_type": "markdown",
      "source": [
        "Almost 90% of man was called by **Mr.** Since we have a really strong correlation between **Sex** and **Survival**, its fair to assume this is the reason why we have this correlation."
      ],
      "metadata": {
        "id": "pAWPWREYIGui"
      }
    },
    {
      "cell_type": "code",
      "source": [
        "fig, ax = plt.subplots(nrows=1, ncols=2, figsize=(15,5), sharey=True)\n",
        "\n",
        "data = train.groupby('Sex')['Survived'].sum() / train.Sex.value_counts()\n",
        "sns.barplot(x=data.index, y=data, ax=ax[0])\n",
        "ax[0].set_title('Survival rate by sex', fontsize=14)\n",
        "ax[0].set_ylabel('Survival rate')\n",
        "ax[0].grid(axis='y')\n",
        "\n",
        "mask = train.Sex == 0\n",
        "data = train.loc[mask, :]\n",
        "data = data.groupby('Mr.')['Survived'].sum() / len(data)\n",
        "sns.barplot(x=data.index, y=data, ax=ax[1])\n",
        "ax[1].set_title('Survival rate by Mr. title', fontsize=14)\n",
        "ax[1].set_ylabel('')\n",
        "ax[1].grid(axis='y')\n",
        "\n",
        "plt.show()"
      ],
      "metadata": {
        "colab": {
          "base_uri": "https://localhost:8080/",
          "height": 351
        },
        "id": "V6n3vJxaAtYZ",
        "outputId": "1b27adaa-81dc-49e9-f20a-6f7ed7c2a102"
      },
      "execution_count": 507,
      "outputs": [
        {
          "output_type": "display_data",
          "data": {
            "image/png": "[encoded data removed]",
            "text/plain": [
              "<Figure size 1080x360 with 2 Axes>"
            ]
          },
          "metadata": {
            "needs_background": "light"
          }
        }
      ]
    },
    {
      "cell_type": "markdown",
      "source": [
        "---"
      ],
      "metadata": {
        "id": "l6OrR7RWZ1tM"
      }
    },
    {
      "cell_type": "markdown",
      "source": [
        "# Training the model"
      ],
      "metadata": {
        "id": "89W_AxOvZ3B4"
      }
    },
    {
      "cell_type": "markdown",
      "source": [
        "## Data normalization"
      ],
      "metadata": {
        "id": "Ft6jA90Aenxr"
      }
    },
    {
      "cell_type": "markdown",
      "source": [
        "As the finally last step before training our model, its time to normalize the data. \n",
        "\n",
        "ie. Scale all columns with at least one nom zero value to a range between 0 and 1"
      ],
      "metadata": {
        "id": "Ywjx1i-9esCm"
      }
    },
    {
      "cell_type": "code",
      "source": [
        "X = train.drop(['PassengerId', 'Survived'], axis=1)\n",
        "y = train.Survived\n",
        "\n",
        "transformer = Normalizer(norm='max').fit(X)\n",
        "X = transformer.transform(X)"
      ],
      "metadata": {
        "id": "oT7G6q4pfePI"
      },
      "execution_count": 508,
      "outputs": []
    },
    {
      "cell_type": "markdown",
      "source": [
        "After all the process of cleaning the data, enginnering new features and scalling the variables, its time to begin the trainament of our model!\n",
        "\n",
        "<br>\n",
        "\n",
        "Our strategies will be:\n",
        "- Using RepeatedStratifiedKFold method to split the data\n",
        "- Adopt the ROC AUC as metric\n",
        "- Train the model using cross_validate to measure the model\n",
        "\n",
        "<br>\n",
        "\n",
        "The model chosen for this first attempt will be the famous **RandomForestClassifier**"
      ],
      "metadata": {
        "id": "_f8m60A1aBfp"
      }
    },
    {
      "cell_type": "code",
      "source": [
        "random_forest = RandomForestClassifier(n_estimators=500, random_state=0)"
      ],
      "metadata": {
        "id": "93SYGduoaIIY"
      },
      "execution_count": 509,
      "outputs": []
    },
    {
      "cell_type": "code",
      "source": [
        "def train_model(estimator, data: pd.DataFrame, target: pd.Series, suffix: str=None) -> pd.DataFrame:\n",
        "    splits = RepeatedStratifiedKFold(n_splits=5, n_repeats=10, random_state=0)\n",
        "    cv = cross_validate(estimator=estimator, X=data, y=target, \n",
        "                        scoring='roc_auc', cv=splits, n_jobs=-1, verbose=1)\n",
        "    \n",
        "    df = pd.DataFrame(cv)\n",
        "    if suffix:\n",
        "        df.columns = [c + suffix for c in df.columns]\n",
        "    \n",
        "    return df\n",
        "\n",
        "rf_cv_results = train_model(random_forest, X, y, suffix='_basemodel')\n",
        "rf_cv_results.describe()"
      ],
      "metadata": {
        "colab": {
          "base_uri": "https://localhost:8080/",
          "height": 352
        },
        "id": "TnEmt1dmMNR9",
        "outputId": "95eaa353-620e-41c3-d114-f575c2cfacf4"
      },
      "execution_count": 510,
      "outputs": [
        {
          "output_type": "stream",
          "name": "stderr",
          "text": [
            "[Parallel(n_jobs=-1)]: Using backend LokyBackend with 2 concurrent workers.\n",
            "[Parallel(n_jobs=-1)]: Done  46 tasks      | elapsed:   42.6s\n",
            "[Parallel(n_jobs=-1)]: Done  50 out of  50 | elapsed:   46.2s finished\n"
          ]
        },
        {
          "output_type": "execute_result",
          "data": {
            "text/html": [
              "<div>\n",
              "<style scoped>\n",
              "    .dataframe tbody tr th:only-of-type {\n",
              "        vertical-align: middle;\n",
              "    }\n",
              "\n",
              "    .dataframe tbody tr th {\n",
              "        vertical-align: top;\n",
              "    }\n",
              "\n",
              "    .dataframe thead th {\n",
              "        text-align: right;\n",
              "    }\n",
              "</style>\n",
              "<table border=\"1\" class=\"dataframe\">\n",
              "  <thead>\n",
              "    <tr style=\"text-align: right;\">\n",
              "      <th></th>\n",
              "      <th>fit_time_basemodel</th>\n",
              "      <th>score_time_basemodel</th>\n",
              "      <th>test_score_basemodel</th>\n",
              "    </tr>\n",
              "  </thead>\n",
              "  <tbody>\n",
              "    <tr>\n",
              "      <th>count</th>\n",
              "      <td>50.000000</td>\n",
              "      <td>50.000000</td>\n",
              "      <td>50.000000</td>\n",
              "    </tr>\n",
              "    <tr>\n",
              "      <th>mean</th>\n",
              "      <td>1.668181</td>\n",
              "      <td>0.120076</td>\n",
              "      <td>0.854187</td>\n",
              "    </tr>\n",
              "    <tr>\n",
              "      <th>std</th>\n",
              "      <td>0.037480</td>\n",
              "      <td>0.009483</td>\n",
              "      <td>0.023442</td>\n",
              "    </tr>\n",
              "    <tr>\n",
              "      <th>min</th>\n",
              "      <td>1.595736</td>\n",
              "      <td>0.083199</td>\n",
              "      <td>0.788436</td>\n",
              "    </tr>\n",
              "    <tr>\n",
              "      <th>25%</th>\n",
              "      <td>1.638372</td>\n",
              "      <td>0.115703</td>\n",
              "      <td>0.838489</td>\n",
              "    </tr>\n",
              "    <tr>\n",
              "      <th>50%</th>\n",
              "      <td>1.665931</td>\n",
              "      <td>0.118861</td>\n",
              "      <td>0.859223</td>\n",
              "    </tr>\n",
              "    <tr>\n",
              "      <th>75%</th>\n",
              "      <td>1.688998</td>\n",
              "      <td>0.124385</td>\n",
              "      <td>0.869231</td>\n",
              "    </tr>\n",
              "    <tr>\n",
              "      <th>max</th>\n",
              "      <td>1.775845</td>\n",
              "      <td>0.139439</td>\n",
              "      <td>0.894519</td>\n",
              "    </tr>\n",
              "  </tbody>\n",
              "</table>\n",
              "</div>"
            ],
            "text/plain": [
              "       fit_time_basemodel  score_time_basemodel  test_score_basemodel\n",
              "count           50.000000             50.000000             50.000000\n",
              "mean             1.668181              0.120076              0.854187\n",
              "std              0.037480              0.009483              0.023442\n",
              "min              1.595736              0.083199              0.788436\n",
              "25%              1.638372              0.115703              0.838489\n",
              "50%              1.665931              0.118861              0.859223\n",
              "75%              1.688998              0.124385              0.869231\n",
              "max              1.775845              0.139439              0.894519"
            ]
          },
          "metadata": {},
          "execution_count": 510
        }
      ]
    },
    {
      "cell_type": "markdown",
      "source": [
        "## Hyperparameter Tuning"
      ],
      "metadata": {
        "id": "gpbUpJfYjo7T"
      }
    },
    {
      "cell_type": "markdown",
      "source": [
        "As it is our model already perform with high scores. Let's just try to tune some hyperparameters."
      ],
      "metadata": {
        "id": "3JRgCtgFiwjA"
      }
    },
    {
      "cell_type": "code",
      "source": [
        "random_forest.get_params()"
      ],
      "metadata": {
        "colab": {
          "base_uri": "https://localhost:8080/"
        },
        "id": "MVdmKDOUiwMc",
        "outputId": "b514b28c-4a3d-40b8-8809-b4fef6e3522a"
      },
      "execution_count": 511,
      "outputs": [
        {
          "output_type": "execute_result",
          "data": {
            "text/plain": [
              "{'bootstrap': True,\n",
              " 'ccp_alpha': 0.0,\n",
              " 'class_weight': None,\n",
              " 'criterion': 'gini',\n",
              " 'max_depth': None,\n",
              " 'max_features': 'auto',\n",
              " 'max_leaf_nodes': None,\n",
              " 'max_samples': None,\n",
              " 'min_impurity_decrease': 0.0,\n",
              " 'min_samples_leaf': 1,\n",
              " 'min_samples_split': 2,\n",
              " 'min_weight_fraction_leaf': 0.0,\n",
              " 'n_estimators': 500,\n",
              " 'n_jobs': None,\n",
              " 'oob_score': False,\n",
              " 'random_state': 0,\n",
              " 'verbose': 0,\n",
              " 'warm_start': False}"
            ]
          },
          "metadata": {},
          "execution_count": 511
        }
      ]
    },
    {
      "cell_type": "code",
      "source": [
        "params = {\n",
        "    'bootstrap': [True, False],\n",
        "    'criterion': ['gini', 'entropy'],\n",
        "    'max_depth': [1, 10, 20, 30, 40, 50, 60],\n",
        "    'max_features': ['auto', 'sqrt', 'log2'],\n",
        "     'min_samples_leaf': [1, 2, 4],\n",
        "    'min_samples_split': [2, 5, 10],\n",
        "    'max_samples': [3, 6, 9, 12, 15],\n",
        "    'n_estimators': [100, 300, 500, 800, 1000]\n",
        "}"
      ],
      "metadata": {
        "id": "NYYDhvp8jygx"
      },
      "execution_count": 512,
      "outputs": []
    },
    {
      "cell_type": "code",
      "source": [
        "rscv = RandomizedSearchCV(estimator=random_forest, param_distributions=params, \n",
        "                          n_iter=100, scoring='roc_auc', cv=rskf, verbose=1, \n",
        "                          n_jobs=-1, random_state=0)\n",
        "\n",
        "# This line was commented in order to save some time\n",
        "# rscv.fit(X, y)"
      ],
      "metadata": {
        "id": "MKklpm4jmfVH"
      },
      "execution_count": 513,
      "outputs": []
    },
    {
      "cell_type": "code",
      "source": [
        "# best_params = rscv.best_params_\n",
        "best_params = {\n",
        "    'bootstrap': False,\n",
        "    'criterion': 'gini',\n",
        "    'max_depth': 20,\n",
        "    'max_features': 'sqrt',\n",
        "    'max_samples': 9,\n",
        "    'min_samples_leaf': 4,\n",
        "    'min_samples_split': 10,\n",
        "    'n_estimators': 500\n",
        "}\n",
        "\n",
        "best_params['verbose'] = 1\n",
        "best_params['n_jobs'] = -1\n",
        "best_params['random_state'] = 0"
      ],
      "metadata": {
        "id": "MLFYqR-mnvIH"
      },
      "execution_count": 514,
      "outputs": []
    },
    {
      "cell_type": "code",
      "source": [
        "rf_tunned = RandomForestClassifier()\n",
        "rf_tunned.set_params(**best_params)\n",
        "rf_tunned.get_params()"
      ],
      "metadata": {
        "colab": {
          "base_uri": "https://localhost:8080/"
        },
        "id": "XFKr5HD3C36T",
        "outputId": "415adf1a-89ed-4f78-f86e-f7b009ea21f3"
      },
      "execution_count": 515,
      "outputs": [
        {
          "output_type": "execute_result",
          "data": {
            "text/plain": [
              "{'bootstrap': False,\n",
              " 'ccp_alpha': 0.0,\n",
              " 'class_weight': None,\n",
              " 'criterion': 'gini',\n",
              " 'max_depth': 20,\n",
              " 'max_features': 'sqrt',\n",
              " 'max_leaf_nodes': None,\n",
              " 'max_samples': 9,\n",
              " 'min_impurity_decrease': 0.0,\n",
              " 'min_samples_leaf': 4,\n",
              " 'min_samples_split': 10,\n",
              " 'min_weight_fraction_leaf': 0.0,\n",
              " 'n_estimators': 500,\n",
              " 'n_jobs': -1,\n",
              " 'oob_score': False,\n",
              " 'random_state': 0,\n",
              " 'verbose': 1,\n",
              " 'warm_start': False}"
            ]
          },
          "metadata": {},
          "execution_count": 515
        }
      ]
    },
    {
      "cell_type": "code",
      "source": [
        "rf_tunned_cv_results = train_model(rf_tunned, X, y, suffix='_tunnedmodel')\n",
        "rf_tunned_cv_results.describe()"
      ],
      "metadata": {
        "colab": {
          "base_uri": "https://localhost:8080/",
          "height": 352
        },
        "id": "MtQB8z1nOeAB",
        "outputId": "faf55ce5-a323-4990-adc8-f80ec39b2c15"
      },
      "execution_count": 516,
      "outputs": [
        {
          "output_type": "stream",
          "name": "stderr",
          "text": [
            "[Parallel(n_jobs=-1)]: Using backend LokyBackend with 2 concurrent workers.\n",
            "[Parallel(n_jobs=-1)]: Done  46 tasks      | elapsed:   38.7s\n",
            "[Parallel(n_jobs=-1)]: Done  50 out of  50 | elapsed:   41.9s finished\n"
          ]
        },
        {
          "output_type": "execute_result",
          "data": {
            "text/html": [
              "<div>\n",
              "<style scoped>\n",
              "    .dataframe tbody tr th:only-of-type {\n",
              "        vertical-align: middle;\n",
              "    }\n",
              "\n",
              "    .dataframe tbody tr th {\n",
              "        vertical-align: top;\n",
              "    }\n",
              "\n",
              "    .dataframe thead th {\n",
              "        text-align: right;\n",
              "    }\n",
              "</style>\n",
              "<table border=\"1\" class=\"dataframe\">\n",
              "  <thead>\n",
              "    <tr style=\"text-align: right;\">\n",
              "      <th></th>\n",
              "      <th>fit_time_tunnedmodel</th>\n",
              "      <th>score_time_tunnedmodel</th>\n",
              "      <th>test_score_tunnedmodel</th>\n",
              "    </tr>\n",
              "  </thead>\n",
              "  <tbody>\n",
              "    <tr>\n",
              "      <th>count</th>\n",
              "      <td>50.000000</td>\n",
              "      <td>50.000000</td>\n",
              "      <td>50.000000</td>\n",
              "    </tr>\n",
              "    <tr>\n",
              "      <th>mean</th>\n",
              "      <td>1.456900</td>\n",
              "      <td>0.205556</td>\n",
              "      <td>0.862439</td>\n",
              "    </tr>\n",
              "    <tr>\n",
              "      <th>std</th>\n",
              "      <td>0.073105</td>\n",
              "      <td>0.001372</td>\n",
              "      <td>0.025491</td>\n",
              "    </tr>\n",
              "    <tr>\n",
              "      <th>min</th>\n",
              "      <td>1.332410</td>\n",
              "      <td>0.203912</td>\n",
              "      <td>0.779278</td>\n",
              "    </tr>\n",
              "    <tr>\n",
              "      <th>25%</th>\n",
              "      <td>1.413684</td>\n",
              "      <td>0.204807</td>\n",
              "      <td>0.849983</td>\n",
              "    </tr>\n",
              "    <tr>\n",
              "      <th>50%</th>\n",
              "      <td>1.447106</td>\n",
              "      <td>0.205216</td>\n",
              "      <td>0.863508</td>\n",
              "    </tr>\n",
              "    <tr>\n",
              "      <th>75%</th>\n",
              "      <td>1.481578</td>\n",
              "      <td>0.205812</td>\n",
              "      <td>0.880854</td>\n",
              "    </tr>\n",
              "    <tr>\n",
              "      <th>max</th>\n",
              "      <td>1.600543</td>\n",
              "      <td>0.210014</td>\n",
              "      <td>0.901252</td>\n",
              "    </tr>\n",
              "  </tbody>\n",
              "</table>\n",
              "</div>"
            ],
            "text/plain": [
              "       fit_time_tunnedmodel  score_time_tunnedmodel  test_score_tunnedmodel\n",
              "count             50.000000               50.000000               50.000000\n",
              "mean               1.456900                0.205556                0.862439\n",
              "std                0.073105                0.001372                0.025491\n",
              "min                1.332410                0.203912                0.779278\n",
              "25%                1.413684                0.204807                0.849983\n",
              "50%                1.447106                0.205216                0.863508\n",
              "75%                1.481578                0.205812                0.880854\n",
              "max                1.600543                0.210014                0.901252"
            ]
          },
          "metadata": {},
          "execution_count": 516
        }
      ]
    },
    {
      "cell_type": "code",
      "source": [
        "df_cv_results = pd.concat([rf_tunned_cv_results.describe(), rf_cv_results.describe()], axis=1)\n",
        "df_cv_results[[c for c in df_cv_results.columns if 'test_score' in c]].T"
      ],
      "metadata": {
        "colab": {
          "base_uri": "https://localhost:8080/",
          "height": 112
        },
        "id": "7-i9ZKlURapa",
        "outputId": "4d935705-0355-41c7-b983-252fabeaf7f3"
      },
      "execution_count": 517,
      "outputs": [
        {
          "output_type": "execute_result",
          "data": {
            "text/html": [
              "<div>\n",
              "<style scoped>\n",
              "    .dataframe tbody tr th:only-of-type {\n",
              "        vertical-align: middle;\n",
              "    }\n",
              "\n",
              "    .dataframe tbody tr th {\n",
              "        vertical-align: top;\n",
              "    }\n",
              "\n",
              "    .dataframe thead th {\n",
              "        text-align: right;\n",
              "    }\n",
              "</style>\n",
              "<table border=\"1\" class=\"dataframe\">\n",
              "  <thead>\n",
              "    <tr style=\"text-align: right;\">\n",
              "      <th></th>\n",
              "      <th>count</th>\n",
              "      <th>mean</th>\n",
              "      <th>std</th>\n",
              "      <th>min</th>\n",
              "      <th>25%</th>\n",
              "      <th>50%</th>\n",
              "      <th>75%</th>\n",
              "      <th>max</th>\n",
              "    </tr>\n",
              "  </thead>\n",
              "  <tbody>\n",
              "    <tr>\n",
              "      <th>test_score_tunnedmodel</th>\n",
              "      <td>50.0</td>\n",
              "      <td>0.862439</td>\n",
              "      <td>0.025491</td>\n",
              "      <td>0.779278</td>\n",
              "      <td>0.849983</td>\n",
              "      <td>0.863508</td>\n",
              "      <td>0.880854</td>\n",
              "      <td>0.901252</td>\n",
              "    </tr>\n",
              "    <tr>\n",
              "      <th>test_score_basemodel</th>\n",
              "      <td>50.0</td>\n",
              "      <td>0.854187</td>\n",
              "      <td>0.023442</td>\n",
              "      <td>0.788436</td>\n",
              "      <td>0.838489</td>\n",
              "      <td>0.859223</td>\n",
              "      <td>0.869231</td>\n",
              "      <td>0.894519</td>\n",
              "    </tr>\n",
              "  </tbody>\n",
              "</table>\n",
              "</div>"
            ],
            "text/plain": [
              "                        count      mean       std  ...       50%       75%       max\n",
              "test_score_tunnedmodel   50.0  0.862439  0.025491  ...  0.863508  0.880854  0.901252\n",
              "test_score_basemodel     50.0  0.854187  0.023442  ...  0.859223  0.869231  0.894519\n",
              "\n",
              "[2 rows x 8 columns]"
            ]
          },
          "metadata": {},
          "execution_count": 517
        }
      ]
    },
    {
      "cell_type": "markdown",
      "source": [
        "## Submission"
      ],
      "metadata": {
        "id": "ndXSWVQrcIQM"
      }
    },
    {
      "cell_type": "code",
      "source": [
        "def create_submission(estimator, train: pd.DataFrame, test: pd.DataFrame, output_name: str) -> None:\n",
        "    X_test = test.drop('PassengerId', axis=1)\n",
        "    X_train = train.drop(['PassengerId', 'Survived'], axis=1)\n",
        "    y_train = train['Survived']\n",
        "    \n",
        "    for X in X_train, X_test:\n",
        "        transformer = Normalizer(norm='max').fit(X)\n",
        "        X = transformer.transform(X)\n",
        "    \n",
        "    estimator.fit(X_train, y_train)\n",
        "    prediction = estimator.predict(X_test)\n",
        "    \n",
        "    df = pd.DataFrame(prediction, columns=['Survived'])\n",
        "    df = pd.concat([test.PassengerId, df], axis=1)\n",
        "    df.to_csv(f'{output_name}.csv', index=False)"
      ],
      "metadata": {
        "id": "sN4DciBGUUCJ"
      },
      "execution_count": 529,
      "outputs": []
    },
    {
      "cell_type": "code",
      "source": [
        "path = '/content/drive/MyDrive/Colab Notebooks/kaggle/titanic/output/'\n",
        "create_submission(rf_tunned, train, test, f'{path}second_submission')"
      ],
      "metadata": {
        "colab": {
          "base_uri": "https://localhost:8080/"
        },
        "id": "-QKAXyYDabwR",
        "outputId": "f82b7bc1-9be4-4431-80e2-8d58a7bdc9fd"
      },
      "execution_count": 534,
      "outputs": [
        {
          "output_type": "stream",
          "name": "stderr",
          "text": [
            "[Parallel(n_jobs=-1)]: Using backend ThreadingBackend with 2 concurrent workers.\n",
            "[Parallel(n_jobs=-1)]: Done  46 tasks      | elapsed:    0.1s\n",
            "[Parallel(n_jobs=-1)]: Done 196 tasks      | elapsed:    0.3s\n",
            "[Parallel(n_jobs=-1)]: Done 446 tasks      | elapsed:    0.7s\n",
            "[Parallel(n_jobs=-1)]: Done 500 out of 500 | elapsed:    0.8s finished\n",
            "[Parallel(n_jobs=2)]: Using backend ThreadingBackend with 2 concurrent workers.\n",
            "[Parallel(n_jobs=2)]: Done  46 tasks      | elapsed:    0.0s\n",
            "[Parallel(n_jobs=2)]: Done 196 tasks      | elapsed:    0.1s\n",
            "[Parallel(n_jobs=2)]: Done 446 tasks      | elapsed:    0.2s\n",
            "[Parallel(n_jobs=2)]: Done 500 out of 500 | elapsed:    0.2s finished\n"
          ]
        }
      ]
    },
    {
      "cell_type": "code",
      "source": [
        "for dirname, _, filenames in os.walk('/content/drive/MyDrive/Colab Notebooks/kaggle/titanic'):\n",
        "    for filename in filenames:\n",
        "        print(os.path.join(dirname, filename))"
      ],
      "metadata": {
        "colab": {
          "base_uri": "https://localhost:8080/"
        },
        "id": "XFDoyvl0cNHE",
        "outputId": "fe69226b-3ef2-48e1-c368-2ba391786cf3"
      },
      "execution_count": 535,
      "outputs": [
        {
          "output_type": "stream",
          "name": "stdout",
          "text": [
            "/content/drive/MyDrive/Colab Notebooks/kaggle/titanic/titanic-starter-notebook.ipynb\n",
            "/content/drive/MyDrive/Colab Notebooks/kaggle/titanic/ Titanic - Exploratory Data Analysis and Machine Learning from Disaster.ipynb\n",
            "/content/drive/MyDrive/Colab Notebooks/kaggle/titanic/outputsecond_submission.csv\n",
            "/content/drive/MyDrive/Colab Notebooks/kaggle/titanic/input/train.csv\n",
            "/content/drive/MyDrive/Colab Notebooks/kaggle/titanic/input/test.csv\n",
            "/content/drive/MyDrive/Colab Notebooks/kaggle/titanic/output/second_submission.csv\n"
          ]
        }
      ]
    }
  ]
}